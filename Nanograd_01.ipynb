{
  "nbformat": 4,
  "nbformat_minor": 0,
  "metadata": {
    "colab": {
      "provenance": [],
      "authorship_tag": "ABX9TyNShwy7MIwVeVdt5YNINjkS",
      "include_colab_link": true
    },
    "kernelspec": {
      "name": "python3",
      "display_name": "Python 3"
    },
    "language_info": {
      "name": "python"
    },
    "accelerator": "GPU",
    "gpuClass": "standard"
  },
  "cells": [
    {
      "cell_type": "markdown",
      "metadata": {
        "id": "view-in-github",
        "colab_type": "text"
      },
      "source": [
        "<a href=\"https://colab.research.google.com/github/gigDevelopment10/NanoGrad/blob/main/Nanograd_01.ipynb\" target=\"_parent\"><img src=\"https://colab.research.google.com/assets/colab-badge.svg\" alt=\"Open In Colab\"/></a>"
      ]
    },
    {
      "cell_type": "markdown",
      "source": [
        "# **Nanograd**  - Auto grad engine that influences backpropagation (Kind of mathematical model that trains the neural parameter)\n",
        "\n",
        "**Backpropagation** - efficiently evaluate the gradient of some kind of loss function that influences the weight of a neural network.\n"
      ],
      "metadata": {
        "id": "Gd8iV5xuOrxe"
      }
    },
    {
      "cell_type": "markdown",
      "source": [
        "BUILDING A MICROGRAD LIBRARY"
      ],
      "metadata": {
        "id": "xwHL1Ypaf8MH"
      }
    },
    {
      "cell_type": "code",
      "execution_count": null,
      "metadata": {
        "id": "XoS8TVZHNxfY"
      },
      "outputs": [],
      "source": [
        "import math\n",
        "import numpy as np\n",
        "import matplotlib.pyplot as plt"
      ]
    },
    {
      "cell_type": "code",
      "source": [
        "def f(x):\n",
        "  return 3*x**2 - 4*x + 5 "
      ],
      "metadata": {
        "id": "wM-8m1bNN241"
      },
      "execution_count": null,
      "outputs": []
    },
    {
      "cell_type": "code",
      "source": [
        "f(3.0)"
      ],
      "metadata": {
        "colab": {
          "base_uri": "https://localhost:8080/"
        },
        "id": "xDUELJRhN_Rd",
        "outputId": "f3614f9b-7f83-4b07-e522-e3dcb51c45c7"
      },
      "execution_count": null,
      "outputs": [
        {
          "output_type": "execute_result",
          "data": {
            "text/plain": [
              "20.0"
            ]
          },
          "metadata": {},
          "execution_count": 3
        }
      ]
    },
    {
      "cell_type": "code",
      "source": [
        "# arange and plot derivative parabola\n",
        "\n",
        "xs = np.arange(-5,5,0.25)\n",
        "ys = f(xs)\n",
        "plt.plot(ys)"
      ],
      "metadata": {
        "colab": {
          "base_uri": "https://localhost:8080/",
          "height": 282
        },
        "id": "C-OzDMmPOGTy",
        "outputId": "a37135e8-32c9-492d-8617-7ea5666364d3"
      },
      "execution_count": null,
      "outputs": [
        {
          "output_type": "execute_result",
          "data": {
            "text/plain": [
              "[<matplotlib.lines.Line2D at 0x7ff4443b57f0>]"
            ]
          },
          "metadata": {},
          "execution_count": 4
        },
        {
          "output_type": "display_data",
          "data": {
            "text/plain": [
              "<Figure size 432x288 with 1 Axes>"
            ],
            "image/png": "[encoded data removed]"
          },
          "metadata": {
            "needs_background": "light"
          }
        }
      ]
    },
    {
      "cell_type": "code",
      "source": [
        "h = 0.000001\n",
        "x = 3.0\n",
        "\n",
        "# Derivative of a function \n",
        "slope = (f(x + h) - f(x))/h\n",
        "\n",
        "# analogy \n",
        "# Derivative of 3*x**2  - 4x + 5 = 6x + 4 which means the abv solution is right "
      ],
      "metadata": {
        "id": "LxS9o_9ATBDd"
      },
      "execution_count": null,
      "outputs": []
    },
    {
      "cell_type": "code",
      "source": [
        "import math\n",
        "\n",
        "class Value:\n",
        "\n",
        "  def __init__(self, data, _children=(), _op='', label=''):\n",
        "    self.data = data\n",
        "    self.grad = 0.0\n",
        "    self._backward = lambda : None \n",
        "    self._prev = set(_children) # store the children of the operators\n",
        "    self._op = _op\n",
        "    self.label = label\n",
        "\n",
        "\n",
        "# _children notation is used for efficiency\n",
        "  \n",
        "  def __repr__(self):\n",
        "    return f\"Value(data)={self.data}\"\n",
        "\n",
        "# Internally it runs a.__add__(b) because python can't operate on Value objects \n",
        "  def __add__(self, other):\n",
        "    other = other if isinstance(other, Value) else Value(other)\n",
        "    out = Value(self.data + other.data, (self, other), '+')\n",
        "    def _backward():\n",
        "      self.grad += 1.0 * out.grad\n",
        "      other.grad += 1.0 * out.grad\n",
        "    out._backward = _backward\n",
        "\n",
        "    return out\n",
        "\n",
        "  # Internally it runs a.__mul__(b) because python can't operate on Value objects\n",
        "  def __mul__(self, other):\n",
        "      other = other if isinstance(other, Value) else Value(other)\n",
        "      out = Value(self.data * other.data, (self, other), '*')\n",
        "\n",
        "      def _backward():\n",
        "          self.grad += other.data * out.grad\n",
        "          other.grad += self.data * out.grad\n",
        "      out._backward = _backward\n",
        "\n",
        "      return out\n",
        "  \n",
        "  def __pow__(self, other):\n",
        "    assert isinstance(other, (int , float)), \"only support int/float owers for now\"\n",
        "    out = Value(self.data**other, (self, ), f'**{other}')\n",
        "\n",
        "    def _backward():\n",
        "      self.grad += (other * self.data ** (other-1)) * out.grad \n",
        "      out._backward = _backward\n",
        "\n",
        "      return out\n",
        "  \n",
        "  def __rmul__(self, other):\n",
        "    return Value(self.data * other.data)\n",
        "  \n",
        "  def __truediv__(self, other): # self / other\n",
        "        return Value(self.data * other.data**-1)\n",
        "      \n",
        "  def __rtruediv__(self, other): # other / self\n",
        "        return Value(other.data * self.data**-1)\n",
        "\n",
        "  def __neg__(self):\n",
        "    return self * -1 \n",
        "\n",
        "  def __sub__(self, other):\n",
        "    return self + (-other)\n",
        "\n",
        "# Activation function \n",
        "  def tanh(self):\n",
        "    x = self.data \n",
        "    t = (math.exp(2*x) - 1)/(math.exp(2*x) + 1)\n",
        "    out = Value(t, (self, ), 'tanh')\n",
        "    def _backward():\n",
        "      self.grad += (1 - t**2) * out.grad \n",
        "    \n",
        "    out._backward = _backward\n",
        "    return out \n",
        "\n",
        "  def exp(self):\n",
        "    x = self.data \n",
        "    out = Value(math.exp(x), (self,), 'exp')\n",
        "    def _backward():\n",
        "      self.grad += out.data * out.grad\n",
        "    out._backward = _backward\n",
        "    return out\n",
        "\n",
        "  def backward(self):\n",
        "# Topological Sorting \n",
        "    topo = []\n",
        "    visited = set()\n",
        "    def build_topo(v):\n",
        "      if v not in visited:\n",
        "        visited.add(v)\n",
        "        for child in v._prev:\n",
        "          build_topo(child)\n",
        "        topo.append(v)\n",
        "    build_topo(self)\n",
        "\n",
        "    self.grad = 1.0\n",
        "    for node in reversed(topo):\n",
        "      node._backward()\n",
        "\n",
        "\n",
        "\n",
        "a = Value(2.0, label='a')\n",
        "b = Value(-3.0, label='b')\n",
        "c = Value(10.0, label='c')\n",
        "e = a*b; e.label = 'e'\n",
        "d = e + c; d.label = 'd'\n",
        "\n",
        "f = Value(-2.0, label='f')\n",
        "L = d*f; L.label='L'\n",
        "L"
      ],
      "metadata": {
        "colab": {
          "base_uri": "https://localhost:8080/"
        },
        "id": "rreBWZhHmEeo",
        "outputId": "1cb4ff58-0f58-4e1b-bc1a-7c3f8a0aee68"
      },
      "execution_count": null,
      "outputs": [
        {
          "output_type": "execute_result",
          "data": {
            "text/plain": [
              "Value(data)=-8.0"
            ]
          },
          "metadata": {},
          "execution_count": 6
        }
      ]
    },
    {
      "cell_type": "code",
      "source": [
        "print('d._prev: ', d._prev)\n",
        "print('d._op: ', d._op)"
      ],
      "metadata": {
        "id": "PyUf-0un1VNy",
        "colab": {
          "base_uri": "https://localhost:8080/"
        },
        "outputId": "f375015c-d072-4b17-87bd-7255b46c7ead"
      },
      "execution_count": null,
      "outputs": [
        {
          "output_type": "stream",
          "name": "stdout",
          "text": [
            "d._prev:  {Value(data)=-6.0, Value(data)=10.0}\n",
            "d._op:  +\n"
          ]
        }
      ]
    },
    {
      "cell_type": "code",
      "source": [
        "# !pip install graphviz\n",
        "from graphviz import Digraph\n",
        "\n",
        "def trace(root): # root = d\n",
        "# build a set of nodes and edges in a graph\n",
        "  nodes, edges = set(), set()\n",
        "  def build(v):\n",
        "    if v not in nodes:\n",
        "      nodes.add(v)\n",
        "      for child in v._prev:\n",
        "        edges.add((child, v))\n",
        "        build(child)\n",
        "  build(root)\n",
        "  return nodes, edges \n",
        "\n",
        "def draw_dot(root):\n",
        "  dot = Digraph(format='svg', graph_attr={'rankdir':'LR'}) # LR = left to right\n",
        "\n",
        "  nodes, edges = trace(root)\n",
        "  for n in nodes:\n",
        "    uid = str(id(n))\n",
        "    # for any value in a graph, create a rectangular ('record') node for it \n",
        "    dot.node(name = uid, label='{ %s | data %.4f | grad. %.4f }' %(n.label, n.data, n.grad), shape='record')\n",
        "    \n",
        "    if n._op:\n",
        "      # if this value is some result of operation, create an op node for it \n",
        "      dot.node(name = uid + n._op, label = n._op)\n",
        "      # connect this node to it\n",
        "      dot.edge(uid + n._op, uid)\n",
        "\n",
        "  for n1, n2 in edges:\n",
        "    # connect n1 to the op node of n2\n",
        "    dot.edge(str(id(n1)), str(id(n2)) + n2._op)\n",
        "\n",
        "  return dot"
      ],
      "metadata": {
        "id": "sCAzERRa1qKv"
      },
      "execution_count": null,
      "outputs": []
    },
    {
      "cell_type": "code",
      "source": [
        "draw_dot(L)"
      ],
      "metadata": {
        "id": "znIlOmdS9s0u",
        "colab": {
          "base_uri": "https://localhost:8080/",
          "height": 249
        },
        "outputId": "7e76a5b7-2179-4115-d917-043072238037"
      },
      "execution_count": null,
      "outputs": [
        {
          "output_type": "execute_result",
          "data": {
            "text/plain": [
              "<graphviz.dot.Digraph at 0x7ff44428e580>"
            ],
            "image/svg+xml": "<?xml version=\"1.0\" encoding=\"UTF-8\" standalone=\"no\"?>\n<!DOCTYPE svg PUBLIC \"-//W3C//DTD SVG 1.1//EN\"\n \"http://www.w3.org/Graphics/SVG/1.1/DTD/svg11.dtd\">\n<!-- Generated by graphviz version 2.43.0 (0)\n -->\n<!-- Title: %3 Pages: 1 -->\n<svg width=\"1164pt\" height=\"156pt\"\n viewBox=\"0.00 0.00 1164.00 156.00\" xmlns=\"http://www.w3.org/2000/svg\" xmlns:xlink=\"http://www.w3.org/1999/xlink\">\n<g id=\"graph0\" class=\"graph\" transform=\"scale(1 1) rotate(0) translate(4 152)\">\n<title>%3</title>\n<polygon fill=\"white\" stroke=\"transparent\" points=\"-4,4 -4,-152 1160,-152 1160,4 -4,4\"/>\n<!-- 140687101993744 -->\n<g id=\"node1\" class=\"node\">\n<title>140687101993744</title>\n<polygon fill=\"none\" stroke=\"black\" points=\"960,-27.5 960,-63.5 1156,-63.5 1156,-27.5 960,-27.5\"/>\n<text text-anchor=\"middle\" x=\"972.5\" y=\"-41.8\" font-family=\"Times,serif\" font-size=\"14.00\">L</text>\n<polyline fill=\"none\" stroke=\"black\" points=\"985,-27.5 985,-63.5 \"/>\n<text text-anchor=\"middle\" x=\"1027.5\" y=\"-41.8\" font-family=\"Times,serif\" font-size=\"14.00\">data &#45;8.0000</text>\n<polyline fill=\"none\" stroke=\"black\" points=\"1070,-27.5 1070,-63.5 \"/>\n<text text-anchor=\"middle\" x=\"1113\" y=\"-41.8\" font-family=\"Times,serif\" font-size=\"14.00\">grad. 0.0000</text>\n</g>\n<!-- 140687101993744* -->\n<g id=\"node2\" class=\"node\">\n<title>140687101993744*</title>\n<ellipse fill=\"none\" stroke=\"black\" cx=\"897\" cy=\"-45.5\" rx=\"27\" ry=\"18\"/>\n<text text-anchor=\"middle\" x=\"897\" y=\"-41.8\" font-family=\"Times,serif\" font-size=\"14.00\">*</text>\n</g>\n<!-- 140687101993744*&#45;&gt;140687101993744 -->\n<g id=\"edge1\" class=\"edge\">\n<title>140687101993744*&#45;&gt;140687101993744</title>\n<path fill=\"none\" stroke=\"black\" d=\"M924.26,-45.5C931.77,-45.5 940.46,-45.5 949.72,-45.5\"/>\n<polygon fill=\"black\" stroke=\"black\" points=\"949.97,-49 959.97,-45.5 949.97,-42 949.97,-49\"/>\n</g>\n<!-- 140687101935424 -->\n<g id=\"node3\" class=\"node\">\n<title>140687101935424</title>\n<polygon fill=\"none\" stroke=\"black\" points=\"643.5,-55.5 643.5,-91.5 832.5,-91.5 832.5,-55.5 643.5,-55.5\"/>\n<text text-anchor=\"middle\" x=\"655\" y=\"-69.8\" font-family=\"Times,serif\" font-size=\"14.00\">d</text>\n<polyline fill=\"none\" stroke=\"black\" points=\"666.5,-55.5 666.5,-91.5 \"/>\n<text text-anchor=\"middle\" x=\"706.5\" y=\"-69.8\" font-family=\"Times,serif\" font-size=\"14.00\">data 4.0000</text>\n<polyline fill=\"none\" stroke=\"black\" points=\"746.5,-55.5 746.5,-91.5 \"/>\n<text text-anchor=\"middle\" x=\"789.5\" y=\"-69.8\" font-family=\"Times,serif\" font-size=\"14.00\">grad. 0.0000</text>\n</g>\n<!-- 140687101935424&#45;&gt;140687101993744* -->\n<g id=\"edge7\" class=\"edge\">\n<title>140687101935424&#45;&gt;140687101993744*</title>\n<path fill=\"none\" stroke=\"black\" d=\"M832.59,-56.81C842.59,-55.03 852.24,-53.3 860.87,-51.77\"/>\n<polygon fill=\"black\" stroke=\"black\" points=\"861.62,-55.19 870.85,-49.99 860.39,-48.3 861.62,-55.19\"/>\n</g>\n<!-- 140687101935424+ -->\n<g id=\"node4\" class=\"node\">\n<title>140687101935424+</title>\n<ellipse fill=\"none\" stroke=\"black\" cx=\"579\" cy=\"-73.5\" rx=\"27\" ry=\"18\"/>\n<text text-anchor=\"middle\" x=\"579\" y=\"-69.8\" font-family=\"Times,serif\" font-size=\"14.00\">+</text>\n</g>\n<!-- 140687101935424+&#45;&gt;140687101935424 -->\n<g id=\"edge2\" class=\"edge\">\n<title>140687101935424+&#45;&gt;140687101935424</title>\n<path fill=\"none\" stroke=\"black\" d=\"M606.28,-73.5C614.12,-73.5 623.23,-73.5 632.92,-73.5\"/>\n<polygon fill=\"black\" stroke=\"black\" points=\"633.21,-77 643.21,-73.5 633.21,-70 633.21,-77\"/>\n</g>\n<!-- 140687092365632 -->\n<g id=\"node5\" class=\"node\">\n<title>140687092365632</title>\n<polygon fill=\"none\" stroke=\"black\" points=\"2.5,-111.5 2.5,-147.5 191.5,-147.5 191.5,-111.5 2.5,-111.5\"/>\n<text text-anchor=\"middle\" x=\"14\" y=\"-125.8\" font-family=\"Times,serif\" font-size=\"14.00\">a</text>\n<polyline fill=\"none\" stroke=\"black\" points=\"25.5,-111.5 25.5,-147.5 \"/>\n<text text-anchor=\"middle\" x=\"65.5\" y=\"-125.8\" font-family=\"Times,serif\" font-size=\"14.00\">data 2.0000</text>\n<polyline fill=\"none\" stroke=\"black\" points=\"105.5,-111.5 105.5,-147.5 \"/>\n<text text-anchor=\"middle\" x=\"148.5\" y=\"-125.8\" font-family=\"Times,serif\" font-size=\"14.00\">grad. 0.0000</text>\n</g>\n<!-- 140687092366688* -->\n<g id=\"node7\" class=\"node\">\n<title>140687092366688*</title>\n<ellipse fill=\"none\" stroke=\"black\" cx=\"257\" cy=\"-101.5\" rx=\"27\" ry=\"18\"/>\n<text text-anchor=\"middle\" x=\"257\" y=\"-97.8\" font-family=\"Times,serif\" font-size=\"14.00\">*</text>\n</g>\n<!-- 140687092365632&#45;&gt;140687092366688* -->\n<g id=\"edge6\" class=\"edge\">\n<title>140687092365632&#45;&gt;140687092366688*</title>\n<path fill=\"none\" stroke=\"black\" d=\"M191.74,-112.89C202.05,-111.06 212.02,-109.29 220.9,-107.72\"/>\n<polygon fill=\"black\" stroke=\"black\" points=\"221.55,-111.16 230.79,-105.97 220.33,-104.27 221.55,-111.16\"/>\n</g>\n<!-- 140687092366688 -->\n<g id=\"node6\" class=\"node\">\n<title>140687092366688</title>\n<polygon fill=\"none\" stroke=\"black\" points=\"321,-83.5 321,-119.5 515,-119.5 515,-83.5 321,-83.5\"/>\n<text text-anchor=\"middle\" x=\"332.5\" y=\"-97.8\" font-family=\"Times,serif\" font-size=\"14.00\">e</text>\n<polyline fill=\"none\" stroke=\"black\" points=\"344,-83.5 344,-119.5 \"/>\n<text text-anchor=\"middle\" x=\"386.5\" y=\"-97.8\" font-family=\"Times,serif\" font-size=\"14.00\">data &#45;6.0000</text>\n<polyline fill=\"none\" stroke=\"black\" points=\"429,-83.5 429,-119.5 \"/>\n<text text-anchor=\"middle\" x=\"472\" y=\"-97.8\" font-family=\"Times,serif\" font-size=\"14.00\">grad. 0.0000</text>\n</g>\n<!-- 140687092366688&#45;&gt;140687101935424+ -->\n<g id=\"edge4\" class=\"edge\">\n<title>140687092366688&#45;&gt;140687101935424+</title>\n<path fill=\"none\" stroke=\"black\" d=\"M515.16,-84.57C524.82,-82.87 534.13,-81.23 542.49,-79.75\"/>\n<polygon fill=\"black\" stroke=\"black\" points=\"543.3,-83.17 552.54,-77.98 542.08,-76.27 543.3,-83.17\"/>\n</g>\n<!-- 140687092366688*&#45;&gt;140687092366688 -->\n<g id=\"edge3\" class=\"edge\">\n<title>140687092366688*&#45;&gt;140687092366688</title>\n<path fill=\"none\" stroke=\"black\" d=\"M284.26,-101.5C292.05,-101.5 301.1,-101.5 310.75,-101.5\"/>\n<polygon fill=\"black\" stroke=\"black\" points=\"310.99,-105 320.99,-101.5 310.99,-98 310.99,-105\"/>\n</g>\n<!-- 140687092365680 -->\n<g id=\"node8\" class=\"node\">\n<title>140687092365680</title>\n<polygon fill=\"none\" stroke=\"black\" points=\"320,-28.5 320,-64.5 516,-64.5 516,-28.5 320,-28.5\"/>\n<text text-anchor=\"middle\" x=\"331.5\" y=\"-42.8\" font-family=\"Times,serif\" font-size=\"14.00\">c</text>\n<polyline fill=\"none\" stroke=\"black\" points=\"343,-28.5 343,-64.5 \"/>\n<text text-anchor=\"middle\" x=\"386.5\" y=\"-42.8\" font-family=\"Times,serif\" font-size=\"14.00\">data 10.0000</text>\n<polyline fill=\"none\" stroke=\"black\" points=\"430,-28.5 430,-64.5 \"/>\n<text text-anchor=\"middle\" x=\"473\" y=\"-42.8\" font-family=\"Times,serif\" font-size=\"14.00\">grad. 0.0000</text>\n</g>\n<!-- 140687092365680&#45;&gt;140687101935424+ -->\n<g id=\"edge5\" class=\"edge\">\n<title>140687092365680&#45;&gt;140687101935424+</title>\n<path fill=\"none\" stroke=\"black\" d=\"M516.07,-62.98C525.42,-64.57 534.43,-66.1 542.55,-67.48\"/>\n<polygon fill=\"black\" stroke=\"black\" points=\"542.21,-70.97 552.65,-69.2 543.38,-64.07 542.21,-70.97\"/>\n</g>\n<!-- 140687101934944 -->\n<g id=\"node9\" class=\"node\">\n<title>140687101934944</title>\n<polygon fill=\"none\" stroke=\"black\" points=\"642,-0.5 642,-36.5 834,-36.5 834,-0.5 642,-0.5\"/>\n<text text-anchor=\"middle\" x=\"652.5\" y=\"-14.8\" font-family=\"Times,serif\" font-size=\"14.00\">f</text>\n<polyline fill=\"none\" stroke=\"black\" points=\"663,-0.5 663,-36.5 \"/>\n<text text-anchor=\"middle\" x=\"705.5\" y=\"-14.8\" font-family=\"Times,serif\" font-size=\"14.00\">data &#45;2.0000</text>\n<polyline fill=\"none\" stroke=\"black\" points=\"748,-0.5 748,-36.5 \"/>\n<text text-anchor=\"middle\" x=\"791\" y=\"-14.8\" font-family=\"Times,serif\" font-size=\"14.00\">grad. 0.0000</text>\n</g>\n<!-- 140687101934944&#45;&gt;140687101993744* -->\n<g id=\"edge8\" class=\"edge\">\n<title>140687101934944&#45;&gt;140687101993744*</title>\n<path fill=\"none\" stroke=\"black\" d=\"M834.4,-34.91C843.69,-36.5 852.64,-38.04 860.71,-39.43\"/>\n<polygon fill=\"black\" stroke=\"black\" points=\"860.32,-42.91 870.76,-41.16 861.5,-36.02 860.32,-42.91\"/>\n</g>\n<!-- 140687092365200 -->\n<g id=\"node10\" class=\"node\">\n<title>140687092365200</title>\n<polygon fill=\"none\" stroke=\"black\" points=\"0,-56.5 0,-92.5 194,-92.5 194,-56.5 0,-56.5\"/>\n<text text-anchor=\"middle\" x=\"11.5\" y=\"-70.8\" font-family=\"Times,serif\" font-size=\"14.00\">b</text>\n<polyline fill=\"none\" stroke=\"black\" points=\"23,-56.5 23,-92.5 \"/>\n<text text-anchor=\"middle\" x=\"65.5\" y=\"-70.8\" font-family=\"Times,serif\" font-size=\"14.00\">data &#45;3.0000</text>\n<polyline fill=\"none\" stroke=\"black\" points=\"108,-56.5 108,-92.5 \"/>\n<text text-anchor=\"middle\" x=\"151\" y=\"-70.8\" font-family=\"Times,serif\" font-size=\"14.00\">grad. 0.0000</text>\n</g>\n<!-- 140687092365200&#45;&gt;140687092366688* -->\n<g id=\"edge9\" class=\"edge\">\n<title>140687092365200&#45;&gt;140687092366688*</title>\n<path fill=\"none\" stroke=\"black\" d=\"M194.01,-90.91C203.35,-92.5 212.37,-94.04 220.49,-95.43\"/>\n<polygon fill=\"black\" stroke=\"black\" points=\"220.16,-98.93 230.6,-97.16 221.34,-92.03 220.16,-98.93\"/>\n</g>\n</g>\n</svg>\n"
          },
          "metadata": {},
          "execution_count": 9
        }
      ]
    },
    {
      "cell_type": "markdown",
      "source": [
        "Run Backpropagation and calculate gradients "
      ],
      "metadata": {
        "id": "9oe8-i9TPHOl"
      }
    },
    {
      "cell_type": "code",
      "source": [
        "L.grad = 1.0\n",
        "d.grad = -2.0\n",
        "f.grad = 4.0\n",
        "e.grad = -2.0\n",
        "c.grad = -2.0\n",
        "a.grad = -2.0 * -3.0 \n",
        "b.grad = -2.0 * 2"
      ],
      "metadata": {
        "id": "VStVTKzSSWuM"
      },
      "execution_count": null,
      "outputs": []
    },
    {
      "cell_type": "code",
      "source": [
        "draw_dot(L)"
      ],
      "metadata": {
        "id": "MY9AnxshPaS3",
        "colab": {
          "base_uri": "https://localhost:8080/",
          "height": 249
        },
        "outputId": "04443c80-2da7-424b-b555-4e89aeee06e8"
      },
      "execution_count": null,
      "outputs": [
        {
          "output_type": "execute_result",
          "data": {
            "text/plain": [
              "<graphviz.dot.Digraph at 0x7ff444312d90>"
            ],
            "image/svg+xml": "<?xml version=\"1.0\" encoding=\"UTF-8\" standalone=\"no\"?>\n<!DOCTYPE svg PUBLIC \"-//W3C//DTD SVG 1.1//EN\"\n \"http://www.w3.org/Graphics/SVG/1.1/DTD/svg11.dtd\">\n<!-- Generated by graphviz version 2.43.0 (0)\n -->\n<!-- Title: %3 Pages: 1 -->\n<svg width=\"1173pt\" height=\"156pt\"\n viewBox=\"0.00 0.00 1173.00 156.00\" xmlns=\"http://www.w3.org/2000/svg\" xmlns:xlink=\"http://www.w3.org/1999/xlink\">\n<g id=\"graph0\" class=\"graph\" transform=\"scale(1 1) rotate(0) translate(4 152)\">\n<title>%3</title>\n<polygon fill=\"white\" stroke=\"transparent\" points=\"-4,4 -4,-152 1169,-152 1169,4 -4,4\"/>\n<!-- 140687101993744 -->\n<g id=\"node1\" class=\"node\">\n<title>140687101993744</title>\n<polygon fill=\"none\" stroke=\"black\" points=\"969,-27.5 969,-63.5 1165,-63.5 1165,-27.5 969,-27.5\"/>\n<text text-anchor=\"middle\" x=\"981.5\" y=\"-41.8\" font-family=\"Times,serif\" font-size=\"14.00\">L</text>\n<polyline fill=\"none\" stroke=\"black\" points=\"994,-27.5 994,-63.5 \"/>\n<text text-anchor=\"middle\" x=\"1036.5\" y=\"-41.8\" font-family=\"Times,serif\" font-size=\"14.00\">data &#45;8.0000</text>\n<polyline fill=\"none\" stroke=\"black\" points=\"1079,-27.5 1079,-63.5 \"/>\n<text text-anchor=\"middle\" x=\"1122\" y=\"-41.8\" font-family=\"Times,serif\" font-size=\"14.00\">grad. 1.0000</text>\n</g>\n<!-- 140687101993744* -->\n<g id=\"node2\" class=\"node\">\n<title>140687101993744*</title>\n<ellipse fill=\"none\" stroke=\"black\" cx=\"906\" cy=\"-45.5\" rx=\"27\" ry=\"18\"/>\n<text text-anchor=\"middle\" x=\"906\" y=\"-41.8\" font-family=\"Times,serif\" font-size=\"14.00\">*</text>\n</g>\n<!-- 140687101993744*&#45;&gt;140687101993744 -->\n<g id=\"edge1\" class=\"edge\">\n<title>140687101993744*&#45;&gt;140687101993744</title>\n<path fill=\"none\" stroke=\"black\" d=\"M933.26,-45.5C940.77,-45.5 949.46,-45.5 958.72,-45.5\"/>\n<polygon fill=\"black\" stroke=\"black\" points=\"958.97,-49 968.97,-45.5 958.97,-42 958.97,-49\"/>\n</g>\n<!-- 140687101935424 -->\n<g id=\"node3\" class=\"node\">\n<title>140687101935424</title>\n<polygon fill=\"none\" stroke=\"black\" points=\"650,-55.5 650,-91.5 843,-91.5 843,-55.5 650,-55.5\"/>\n<text text-anchor=\"middle\" x=\"661.5\" y=\"-69.8\" font-family=\"Times,serif\" font-size=\"14.00\">d</text>\n<polyline fill=\"none\" stroke=\"black\" points=\"673,-55.5 673,-91.5 \"/>\n<text text-anchor=\"middle\" x=\"713\" y=\"-69.8\" font-family=\"Times,serif\" font-size=\"14.00\">data 4.0000</text>\n<polyline fill=\"none\" stroke=\"black\" points=\"753,-55.5 753,-91.5 \"/>\n<text text-anchor=\"middle\" x=\"798\" y=\"-69.8\" font-family=\"Times,serif\" font-size=\"14.00\">grad. &#45;2.0000</text>\n</g>\n<!-- 140687101935424&#45;&gt;140687101993744* -->\n<g id=\"edge7\" class=\"edge\">\n<title>140687101935424&#45;&gt;140687101993744*</title>\n<path fill=\"none\" stroke=\"black\" d=\"M843.2,-56.49C852.52,-54.83 861.5,-53.23 869.6,-51.79\"/>\n<polygon fill=\"black\" stroke=\"black\" points=\"870.45,-55.2 879.68,-50 869.23,-48.31 870.45,-55.2\"/>\n</g>\n<!-- 140687101935424+ -->\n<g id=\"node4\" class=\"node\">\n<title>140687101935424+</title>\n<ellipse fill=\"none\" stroke=\"black\" cx=\"587\" cy=\"-73.5\" rx=\"27\" ry=\"18\"/>\n<text text-anchor=\"middle\" x=\"587\" y=\"-69.8\" font-family=\"Times,serif\" font-size=\"14.00\">+</text>\n</g>\n<!-- 140687101935424+&#45;&gt;140687101935424 -->\n<g id=\"edge2\" class=\"edge\">\n<title>140687101935424+&#45;&gt;140687101935424</title>\n<path fill=\"none\" stroke=\"black\" d=\"M614.01,-73.5C621.52,-73.5 630.21,-73.5 639.47,-73.5\"/>\n<polygon fill=\"black\" stroke=\"black\" points=\"639.72,-77 649.72,-73.5 639.72,-70 639.72,-77\"/>\n</g>\n<!-- 140687092365632 -->\n<g id=\"node5\" class=\"node\">\n<title>140687092365632</title>\n<polygon fill=\"none\" stroke=\"black\" points=\"4.5,-111.5 4.5,-147.5 193.5,-147.5 193.5,-111.5 4.5,-111.5\"/>\n<text text-anchor=\"middle\" x=\"16\" y=\"-125.8\" font-family=\"Times,serif\" font-size=\"14.00\">a</text>\n<polyline fill=\"none\" stroke=\"black\" points=\"27.5,-111.5 27.5,-147.5 \"/>\n<text text-anchor=\"middle\" x=\"67.5\" y=\"-125.8\" font-family=\"Times,serif\" font-size=\"14.00\">data 2.0000</text>\n<polyline fill=\"none\" stroke=\"black\" points=\"107.5,-111.5 107.5,-147.5 \"/>\n<text text-anchor=\"middle\" x=\"150.5\" y=\"-125.8\" font-family=\"Times,serif\" font-size=\"14.00\">grad. 6.0000</text>\n</g>\n<!-- 140687092366688* -->\n<g id=\"node7\" class=\"node\">\n<title>140687092366688*</title>\n<ellipse fill=\"none\" stroke=\"black\" cx=\"261\" cy=\"-101.5\" rx=\"27\" ry=\"18\"/>\n<text text-anchor=\"middle\" x=\"261\" y=\"-97.8\" font-family=\"Times,serif\" font-size=\"14.00\">*</text>\n</g>\n<!-- 140687092365632&#45;&gt;140687092366688* -->\n<g id=\"edge6\" class=\"edge\">\n<title>140687092365632&#45;&gt;140687092366688*</title>\n<path fill=\"none\" stroke=\"black\" d=\"M193.54,-113.13C204.57,-111.2 215.24,-109.33 224.69,-107.68\"/>\n<polygon fill=\"black\" stroke=\"black\" points=\"225.55,-111.08 234.8,-105.91 224.34,-104.19 225.55,-111.08\"/>\n</g>\n<!-- 140687092366688 -->\n<g id=\"node6\" class=\"node\">\n<title>140687092366688</title>\n<polygon fill=\"none\" stroke=\"black\" points=\"325,-83.5 325,-119.5 523,-119.5 523,-83.5 325,-83.5\"/>\n<text text-anchor=\"middle\" x=\"336.5\" y=\"-97.8\" font-family=\"Times,serif\" font-size=\"14.00\">e</text>\n<polyline fill=\"none\" stroke=\"black\" points=\"348,-83.5 348,-119.5 \"/>\n<text text-anchor=\"middle\" x=\"390.5\" y=\"-97.8\" font-family=\"Times,serif\" font-size=\"14.00\">data &#45;6.0000</text>\n<polyline fill=\"none\" stroke=\"black\" points=\"433,-83.5 433,-119.5 \"/>\n<text text-anchor=\"middle\" x=\"478\" y=\"-97.8\" font-family=\"Times,serif\" font-size=\"14.00\">grad. &#45;2.0000</text>\n</g>\n<!-- 140687092366688&#45;&gt;140687101935424+ -->\n<g id=\"edge4\" class=\"edge\">\n<title>140687092366688&#45;&gt;140687101935424+</title>\n<path fill=\"none\" stroke=\"black\" d=\"M523.29,-84.41C532.96,-82.72 542.27,-81.11 550.62,-79.65\"/>\n<polygon fill=\"black\" stroke=\"black\" points=\"551.38,-83.07 560.64,-77.91 550.18,-76.18 551.38,-83.07\"/>\n</g>\n<!-- 140687092366688*&#45;&gt;140687092366688 -->\n<g id=\"edge3\" class=\"edge\">\n<title>140687092366688*&#45;&gt;140687092366688</title>\n<path fill=\"none\" stroke=\"black\" d=\"M288.23,-101.5C295.96,-101.5 304.95,-101.5 314.55,-101.5\"/>\n<polygon fill=\"black\" stroke=\"black\" points=\"314.74,-105 324.74,-101.5 314.74,-98 314.74,-105\"/>\n</g>\n<!-- 140687092365680 -->\n<g id=\"node8\" class=\"node\">\n<title>140687092365680</title>\n<polygon fill=\"none\" stroke=\"black\" points=\"324,-28.5 324,-64.5 524,-64.5 524,-28.5 324,-28.5\"/>\n<text text-anchor=\"middle\" x=\"335.5\" y=\"-42.8\" font-family=\"Times,serif\" font-size=\"14.00\">c</text>\n<polyline fill=\"none\" stroke=\"black\" points=\"347,-28.5 347,-64.5 \"/>\n<text text-anchor=\"middle\" x=\"390.5\" y=\"-42.8\" font-family=\"Times,serif\" font-size=\"14.00\">data 10.0000</text>\n<polyline fill=\"none\" stroke=\"black\" points=\"434,-28.5 434,-64.5 \"/>\n<text text-anchor=\"middle\" x=\"479\" y=\"-42.8\" font-family=\"Times,serif\" font-size=\"14.00\">grad. &#45;2.0000</text>\n</g>\n<!-- 140687092365680&#45;&gt;140687101935424+ -->\n<g id=\"edge5\" class=\"edge\">\n<title>140687092365680&#45;&gt;140687101935424+</title>\n<path fill=\"none\" stroke=\"black\" d=\"M524.21,-63.14C533.57,-64.71 542.57,-66.22 550.67,-67.58\"/>\n<polygon fill=\"black\" stroke=\"black\" points=\"550.31,-71.06 560.76,-69.27 551.47,-64.16 550.31,-71.06\"/>\n</g>\n<!-- 140687101934944 -->\n<g id=\"node9\" class=\"node\">\n<title>140687101934944</title>\n<polygon fill=\"none\" stroke=\"black\" points=\"650.5,-0.5 650.5,-36.5 842.5,-36.5 842.5,-0.5 650.5,-0.5\"/>\n<text text-anchor=\"middle\" x=\"661\" y=\"-14.8\" font-family=\"Times,serif\" font-size=\"14.00\">f</text>\n<polyline fill=\"none\" stroke=\"black\" points=\"671.5,-0.5 671.5,-36.5 \"/>\n<text text-anchor=\"middle\" x=\"714\" y=\"-14.8\" font-family=\"Times,serif\" font-size=\"14.00\">data &#45;2.0000</text>\n<polyline fill=\"none\" stroke=\"black\" points=\"756.5,-0.5 756.5,-36.5 \"/>\n<text text-anchor=\"middle\" x=\"799.5\" y=\"-14.8\" font-family=\"Times,serif\" font-size=\"14.00\">grad. 4.0000</text>\n</g>\n<!-- 140687101934944&#45;&gt;140687101993744* -->\n<g id=\"edge8\" class=\"edge\">\n<title>140687101934944&#45;&gt;140687101993744*</title>\n<path fill=\"none\" stroke=\"black\" d=\"M842.75,-34.83C852.32,-36.47 861.54,-38.05 869.83,-39.47\"/>\n<polygon fill=\"black\" stroke=\"black\" points=\"869.33,-42.94 879.78,-41.18 870.51,-36.04 869.33,-42.94\"/>\n</g>\n<!-- 140687092365200 -->\n<g id=\"node10\" class=\"node\">\n<title>140687092365200</title>\n<polygon fill=\"none\" stroke=\"black\" points=\"0,-56.5 0,-92.5 198,-92.5 198,-56.5 0,-56.5\"/>\n<text text-anchor=\"middle\" x=\"11.5\" y=\"-70.8\" font-family=\"Times,serif\" font-size=\"14.00\">b</text>\n<polyline fill=\"none\" stroke=\"black\" points=\"23,-56.5 23,-92.5 \"/>\n<text text-anchor=\"middle\" x=\"65.5\" y=\"-70.8\" font-family=\"Times,serif\" font-size=\"14.00\">data &#45;3.0000</text>\n<polyline fill=\"none\" stroke=\"black\" points=\"108,-56.5 108,-92.5 \"/>\n<text text-anchor=\"middle\" x=\"153\" y=\"-70.8\" font-family=\"Times,serif\" font-size=\"14.00\">grad. &#45;4.0000</text>\n</g>\n<!-- 140687092365200&#45;&gt;140687092366688* -->\n<g id=\"edge9\" class=\"edge\">\n<title>140687092365200&#45;&gt;140687092366688*</title>\n<path fill=\"none\" stroke=\"black\" d=\"M198.14,-91.06C207.5,-92.64 216.5,-94.16 224.61,-95.53\"/>\n<polygon fill=\"black\" stroke=\"black\" points=\"224.26,-99.02 234.7,-97.23 225.42,-92.12 224.26,-99.02\"/>\n</g>\n</g>\n</svg>\n"
          },
          "metadata": {},
          "execution_count": 11
        }
      ]
    },
    {
      "cell_type": "markdown",
      "source": [
        "dd/dc ? 1.0\n",
        "\n",
        "d= c+e\n",
        "\n",
        "(f(x+h) - f(x))/h \n",
        "\n",
        "((c+h)+e) - (c+e))/h\n",
        "\n",
        "h/h = 1\n",
        "\n",
        "dd/dc?=1\n",
        "dd/de?=1\n",
        "\n",
        "**Applying chain rule**\n",
        "\n",
        "dL/dc = dL/dd * dd/dc <br>\n",
        "dL/dc = -2 * 1 = -2 <br>\n",
        "\n",
        "with symmetry DL/dc = dL/de = -2.0 <br>\n",
        "\n",
        "e = b * a <br>\n",
        "de/da = b = -3.0 <br>\n",
        "\n",
        "DL/de = -2.0 <br>\n",
        "DL/da = DL/de * de/da <br>\n",
        "DL/da = -2.0 * -3.0 = 6 <br>\n",
        "\n"
      ],
      "metadata": {
        "id": "gHP32M2B_2Wj"
      }
    },
    {
      "cell_type": "markdown",
      "source": [
        "dd / dc ? 1.0\n",
        "d = c+e\n",
        "(f(x+h) - f(x))/h \n",
        "((c+h)+e) - (c+e))/h\n",
        "h/h = 1"
      ],
      "metadata": {
        "id": "sOxcH9q35IFy"
      }
    },
    {
      "cell_type": "code",
      "source": [
        "def lol():\n",
        "  h = 0.001\n",
        "  a = Value(2.0, label='a')\n",
        "  b = Value(-3.0, label='b')\n",
        "  c = Value(10.0, label='c')\n",
        "  e = a*b; e.label = 'e'\n",
        "  d = e + c; d.label = 'd'\n",
        "  f = Value(-2.0, label='f')\n",
        "  L = d*f; L.label='L'\n",
        "  L1= L.data\n",
        "\n",
        "  a = Value(2.0 , label='a')\n",
        "  b = Value(-3.0, label='b')\n",
        "  c = Value(10.0, label='c')\n",
        "  e = a*b; e.label = 'e'\n",
        "  d = e + c; d.label = 'd'\n",
        "  f = Value(-2.0, label='f')\n",
        "  L = d*f; L.label='L'\n",
        "  L2= L.data\n",
        "\n",
        "  print((L2 - L1)/h)\n",
        "\n",
        "lol()"
      ],
      "metadata": {
        "id": "hA33Q620JNjf",
        "colab": {
          "base_uri": "https://localhost:8080/"
        },
        "outputId": "af426b2c-244b-4b6e-f88b-acdcf4916138"
      },
      "execution_count": null,
      "outputs": [
        {
          "output_type": "stream",
          "name": "stdout",
          "text": [
            "0.0\n"
          ]
        }
      ]
    },
    {
      "cell_type": "code",
      "source": [
        "a.data += 0.01 * a.grad\n",
        "b.data += 0.01 * b.grad\n",
        "c.data += 0.01 * c.grad\n",
        "d.data += 0.01 * d.grad\n",
        "e.data += 0.01 * e.grad\n",
        "f.data += 0.01 * f.grad\n",
        "\n",
        "e = a * b \n",
        "d = e + c\n",
        "L = d * f \n",
        "\n",
        "print(L.data)"
      ],
      "metadata": {
        "id": "osjuIZzoKS8e",
        "colab": {
          "base_uri": "https://localhost:8080/"
        },
        "outputId": "25e1314b-e841-4350-e50c-cc38808b13ef"
      },
      "execution_count": null,
      "outputs": [
        {
          "output_type": "stream",
          "name": "stdout",
          "text": [
            "-7.286496\n"
          ]
        }
      ]
    },
    {
      "cell_type": "markdown",
      "source": [
        "**BUILDING A TANH ACTIVATION FUNCTION**"
      ],
      "metadata": {
        "id": "aoIS_3WDLveJ"
      }
    },
    {
      "cell_type": "code",
      "source": [
        "plt.plot(np.arange(-5,5,0.2), np.tanh(np.arange(-5,5,0.2))); plt.grid()"
      ],
      "metadata": {
        "id": "xX8XI_VNL3Tz",
        "colab": {
          "base_uri": "https://localhost:8080/",
          "height": 265
        },
        "outputId": "c0bd4474-d182-473f-a550-618185b01511"
      },
      "execution_count": null,
      "outputs": [
        {
          "output_type": "display_data",
          "data": {
            "text/plain": [
              "<Figure size 432x288 with 1 Axes>"
            ],
            "image/png": "[encoded data removed]"
          },
          "metadata": {
            "needs_background": "light"
          }
        }
      ]
    },
    {
      "cell_type": "code",
      "source": [
        "# building a neural network \n",
        "\n",
        "# inputs x1, x2 \n",
        "x1 = Value(2.0, label ='x1')\n",
        "x2 = Value(0.0, label ='x2')\n",
        "\n",
        "# Weights x1, w2 \n",
        "w1 = Value(-3.0, label ='w1')\n",
        "w2 = Value(1.0, label ='w2')\n",
        "\n",
        "# bias of the neuron \n",
        "# 6.7, 8, 6.8813735870195432\n",
        "b = Value(6.8813735870195432, label ='b')\n",
        "\n",
        "# x1w1 + x2w2 + b \n",
        "x1w1= x1*w1; x1w1.label = 'x1*w1'\n",
        "x2w2= x2*w2; x2w2.label = 'x2*w2'\n",
        "\n",
        "x1w1x2w2 = x1w1 + x2w2; x1w1x2w2.label = 'x1*w1 + x2*w2'\n",
        "n = x1w1x2w2 + b ; n.label ='n'\n",
        "o = n.tanh() ; o.label ='o'\n",
        "\n",
        "draw_dot(o)\n"
      ],
      "metadata": {
        "id": "v2BIomnYNzT8",
        "colab": {
          "base_uri": "https://localhost:8080/",
          "height": 321
        },
        "outputId": "39678d12-65f1-4b6d-c811-f84ec853f716"
      },
      "execution_count": null,
      "outputs": [
        {
          "output_type": "execute_result",
          "data": {
            "text/plain": [
              "<graphviz.dot.Digraph at 0x7ff44429ea30>"
            ],
            "image/svg+xml": "<?xml version=\"1.0\" encoding=\"UTF-8\" standalone=\"no\"?>\n<!DOCTYPE svg PUBLIC \"-//W3C//DTD SVG 1.1//EN\"\n \"http://www.w3.org/Graphics/SVG/1.1/DTD/svg11.dtd\">\n<!-- Generated by graphviz version 2.43.0 (0)\n -->\n<!-- Title: %3 Pages: 1 -->\n<svg width=\"1595pt\" height=\"210pt\"\n viewBox=\"0.00 0.00 1595.00 210.00\" xmlns=\"http://www.w3.org/2000/svg\" xmlns:xlink=\"http://www.w3.org/1999/xlink\">\n<g id=\"graph0\" class=\"graph\" transform=\"scale(1 1) rotate(0) translate(4 206)\">\n<title>%3</title>\n<polygon fill=\"white\" stroke=\"transparent\" points=\"-4,4 -4,-206 1591,-206 1591,4 -4,4\"/>\n<!-- 140687091935360 -->\n<g id=\"node1\" class=\"node\">\n<title>140687091935360</title>\n<polygon fill=\"none\" stroke=\"black\" points=\"332.5,-55.5 332.5,-91.5 551.5,-91.5 551.5,-55.5 332.5,-55.5\"/>\n<text text-anchor=\"middle\" x=\"359\" y=\"-69.8\" font-family=\"Times,serif\" font-size=\"14.00\">x2*w2</text>\n<polyline fill=\"none\" stroke=\"black\" points=\"385.5,-55.5 385.5,-91.5 \"/>\n<text text-anchor=\"middle\" x=\"425.5\" y=\"-69.8\" font-family=\"Times,serif\" font-size=\"14.00\">data 0.0000</text>\n<polyline fill=\"none\" stroke=\"black\" points=\"465.5,-55.5 465.5,-91.5 \"/>\n<text text-anchor=\"middle\" x=\"508.5\" y=\"-69.8\" font-family=\"Times,serif\" font-size=\"14.00\">grad. 0.0000</text>\n</g>\n<!-- 140687091936512+ -->\n<g id=\"node6\" class=\"node\">\n<title>140687091936512+</title>\n<ellipse fill=\"none\" stroke=\"black\" cx=\"617\" cy=\"-100.5\" rx=\"27\" ry=\"18\"/>\n<text text-anchor=\"middle\" x=\"617\" y=\"-96.8\" font-family=\"Times,serif\" font-size=\"14.00\">+</text>\n</g>\n<!-- 140687091935360&#45;&gt;140687091936512+ -->\n<g id=\"edge10\" class=\"edge\">\n<title>140687091935360&#45;&gt;140687091936512+</title>\n<path fill=\"none\" stroke=\"black\" d=\"M551.58,-90.45C561.81,-92.04 571.6,-93.57 580.33,-94.93\"/>\n<polygon fill=\"black\" stroke=\"black\" points=\"579.97,-98.42 590.39,-96.5 581.05,-91.5 579.97,-98.42\"/>\n</g>\n<!-- 140687091935360* -->\n<g id=\"node2\" class=\"node\">\n<title>140687091935360*</title>\n<ellipse fill=\"none\" stroke=\"black\" cx=\"267\" cy=\"-73.5\" rx=\"27\" ry=\"18\"/>\n<text text-anchor=\"middle\" x=\"267\" y=\"-69.8\" font-family=\"Times,serif\" font-size=\"14.00\">*</text>\n</g>\n<!-- 140687091935360*&#45;&gt;140687091935360 -->\n<g id=\"edge1\" class=\"edge\">\n<title>140687091935360*&#45;&gt;140687091935360</title>\n<path fill=\"none\" stroke=\"black\" d=\"M294.27,-73.5C302.44,-73.5 312.03,-73.5 322.33,-73.5\"/>\n<polygon fill=\"black\" stroke=\"black\" points=\"322.39,-77 332.39,-73.5 322.39,-70 322.39,-77\"/>\n</g>\n<!-- 140687091935888 -->\n<g id=\"node3\" class=\"node\">\n<title>140687091935888</title>\n<polygon fill=\"none\" stroke=\"black\" points=\"330,-110.5 330,-146.5 554,-146.5 554,-110.5 330,-110.5\"/>\n<text text-anchor=\"middle\" x=\"356.5\" y=\"-124.8\" font-family=\"Times,serif\" font-size=\"14.00\">x1*w1</text>\n<polyline fill=\"none\" stroke=\"black\" points=\"383,-110.5 383,-146.5 \"/>\n<text text-anchor=\"middle\" x=\"425.5\" y=\"-124.8\" font-family=\"Times,serif\" font-size=\"14.00\">data &#45;6.0000</text>\n<polyline fill=\"none\" stroke=\"black\" points=\"468,-110.5 468,-146.5 \"/>\n<text text-anchor=\"middle\" x=\"511\" y=\"-124.8\" font-family=\"Times,serif\" font-size=\"14.00\">grad. 0.0000</text>\n</g>\n<!-- 140687091935888&#45;&gt;140687091936512+ -->\n<g id=\"edge11\" class=\"edge\">\n<title>140687091935888&#45;&gt;140687091936512+</title>\n<path fill=\"none\" stroke=\"black\" d=\"M554.03,-110.53C563.46,-109 572.46,-107.55 580.54,-106.24\"/>\n<polygon fill=\"black\" stroke=\"black\" points=\"581.27,-109.67 590.58,-104.61 580.15,-102.76 581.27,-109.67\"/>\n</g>\n<!-- 140687091935888* -->\n<g id=\"node4\" class=\"node\">\n<title>140687091935888*</title>\n<ellipse fill=\"none\" stroke=\"black\" cx=\"267\" cy=\"-128.5\" rx=\"27\" ry=\"18\"/>\n<text text-anchor=\"middle\" x=\"267\" y=\"-124.8\" font-family=\"Times,serif\" font-size=\"14.00\">*</text>\n</g>\n<!-- 140687091935888*&#45;&gt;140687091935888 -->\n<g id=\"edge2\" class=\"edge\">\n<title>140687091935888*&#45;&gt;140687091935888</title>\n<path fill=\"none\" stroke=\"black\" d=\"M294.27,-128.5C301.7,-128.5 310.31,-128.5 319.55,-128.5\"/>\n<polygon fill=\"black\" stroke=\"black\" points=\"319.81,-132 329.81,-128.5 319.81,-125 319.81,-132\"/>\n</g>\n<!-- 140687091936512 -->\n<g id=\"node5\" class=\"node\">\n<title>140687091936512</title>\n<polygon fill=\"none\" stroke=\"black\" points=\"680,-82.5 680,-118.5 957,-118.5 957,-82.5 680,-82.5\"/>\n<text text-anchor=\"middle\" x=\"733\" y=\"-96.8\" font-family=\"Times,serif\" font-size=\"14.00\">x1*w1 + x2*w2</text>\n<polyline fill=\"none\" stroke=\"black\" points=\"786,-82.5 786,-118.5 \"/>\n<text text-anchor=\"middle\" x=\"828.5\" y=\"-96.8\" font-family=\"Times,serif\" font-size=\"14.00\">data &#45;6.0000</text>\n<polyline fill=\"none\" stroke=\"black\" points=\"871,-82.5 871,-118.5 \"/>\n<text text-anchor=\"middle\" x=\"914\" y=\"-96.8\" font-family=\"Times,serif\" font-size=\"14.00\">grad. 0.0000</text>\n</g>\n<!-- 140687093230896+ -->\n<g id=\"node8\" class=\"node\">\n<title>140687093230896+</title>\n<ellipse fill=\"none\" stroke=\"black\" cx=\"1020\" cy=\"-127.5\" rx=\"27\" ry=\"18\"/>\n<text text-anchor=\"middle\" x=\"1020\" y=\"-123.8\" font-family=\"Times,serif\" font-size=\"14.00\">+</text>\n</g>\n<!-- 140687091936512&#45;&gt;140687093230896+ -->\n<g id=\"edge7\" class=\"edge\">\n<title>140687091936512&#45;&gt;140687093230896+</title>\n<path fill=\"none\" stroke=\"black\" d=\"M952.57,-118.51C963.56,-120 973.95,-121.4 983.09,-122.64\"/>\n<polygon fill=\"black\" stroke=\"black\" points=\"982.85,-126.14 993.23,-124.01 983.79,-119.2 982.85,-126.14\"/>\n</g>\n<!-- 140687091936512+&#45;&gt;140687091936512 -->\n<g id=\"edge3\" class=\"edge\">\n<title>140687091936512+&#45;&gt;140687091936512</title>\n<path fill=\"none\" stroke=\"black\" d=\"M644.08,-100.5C651.53,-100.5 660.21,-100.5 669.65,-100.5\"/>\n<polygon fill=\"black\" stroke=\"black\" points=\"669.74,-104 679.74,-100.5 669.74,-97 669.74,-104\"/>\n</g>\n<!-- 140687093230896 -->\n<g id=\"node7\" class=\"node\">\n<title>140687093230896</title>\n<polygon fill=\"none\" stroke=\"black\" points=\"1083,-109.5 1083,-145.5 1272,-145.5 1272,-109.5 1083,-109.5\"/>\n<text text-anchor=\"middle\" x=\"1094.5\" y=\"-123.8\" font-family=\"Times,serif\" font-size=\"14.00\">n</text>\n<polyline fill=\"none\" stroke=\"black\" points=\"1106,-109.5 1106,-145.5 \"/>\n<text text-anchor=\"middle\" x=\"1146\" y=\"-123.8\" font-family=\"Times,serif\" font-size=\"14.00\">data 0.8814</text>\n<polyline fill=\"none\" stroke=\"black\" points=\"1186,-109.5 1186,-145.5 \"/>\n<text text-anchor=\"middle\" x=\"1229\" y=\"-123.8\" font-family=\"Times,serif\" font-size=\"14.00\">grad. 0.0000</text>\n</g>\n<!-- 140687092345776tanh -->\n<g id=\"node13\" class=\"node\">\n<title>140687092345776tanh</title>\n<ellipse fill=\"none\" stroke=\"black\" cx=\"1335\" cy=\"-127.5\" rx=\"27\" ry=\"18\"/>\n<text text-anchor=\"middle\" x=\"1335\" y=\"-123.8\" font-family=\"Times,serif\" font-size=\"14.00\">tanh</text>\n</g>\n<!-- 140687093230896&#45;&gt;140687092345776tanh -->\n<g id=\"edge13\" class=\"edge\">\n<title>140687093230896&#45;&gt;140687092345776tanh</title>\n<path fill=\"none\" stroke=\"black\" d=\"M1272.1,-127.5C1281.12,-127.5 1289.84,-127.5 1297.75,-127.5\"/>\n<polygon fill=\"black\" stroke=\"black\" points=\"1297.99,-131 1307.99,-127.5 1297.99,-124 1297.99,-131\"/>\n</g>\n<!-- 140687093230896+&#45;&gt;140687093230896 -->\n<g id=\"edge4\" class=\"edge\">\n<title>140687093230896+&#45;&gt;140687093230896</title>\n<path fill=\"none\" stroke=\"black\" d=\"M1047.03,-127.5C1054.66,-127.5 1063.52,-127.5 1072.94,-127.5\"/>\n<polygon fill=\"black\" stroke=\"black\" points=\"1072.94,-131 1082.94,-127.5 1072.94,-124 1072.94,-131\"/>\n</g>\n<!-- 140687091442496 -->\n<g id=\"node9\" class=\"node\">\n<title>140687091442496</title>\n<polygon fill=\"none\" stroke=\"black\" points=\"0,-165.5 0,-201.5 204,-201.5 204,-165.5 0,-165.5\"/>\n<text text-anchor=\"middle\" x=\"16.5\" y=\"-179.8\" font-family=\"Times,serif\" font-size=\"14.00\">w1</text>\n<polyline fill=\"none\" stroke=\"black\" points=\"33,-165.5 33,-201.5 \"/>\n<text text-anchor=\"middle\" x=\"75.5\" y=\"-179.8\" font-family=\"Times,serif\" font-size=\"14.00\">data &#45;3.0000</text>\n<polyline fill=\"none\" stroke=\"black\" points=\"118,-165.5 118,-201.5 \"/>\n<text text-anchor=\"middle\" x=\"161\" y=\"-179.8\" font-family=\"Times,serif\" font-size=\"14.00\">grad. 0.0000</text>\n</g>\n<!-- 140687091442496&#45;&gt;140687091935888* -->\n<g id=\"edge9\" class=\"edge\">\n<title>140687091442496&#45;&gt;140687091935888*</title>\n<path fill=\"none\" stroke=\"black\" d=\"M176.26,-165.43C185.67,-162.67 195.11,-159.67 204,-156.5 214.54,-152.74 225.77,-147.93 235.73,-143.36\"/>\n<polygon fill=\"black\" stroke=\"black\" points=\"237.26,-146.51 244.83,-139.09 234.29,-140.17 237.26,-146.51\"/>\n</g>\n<!-- 140687091444080 -->\n<g id=\"node10\" class=\"node\">\n<title>140687091444080</title>\n<polygon fill=\"none\" stroke=\"black\" points=\"4,-110.5 4,-146.5 200,-146.5 200,-110.5 4,-110.5\"/>\n<text text-anchor=\"middle\" x=\"19\" y=\"-124.8\" font-family=\"Times,serif\" font-size=\"14.00\">x1</text>\n<polyline fill=\"none\" stroke=\"black\" points=\"34,-110.5 34,-146.5 \"/>\n<text text-anchor=\"middle\" x=\"74\" y=\"-124.8\" font-family=\"Times,serif\" font-size=\"14.00\">data 2.0000</text>\n<polyline fill=\"none\" stroke=\"black\" points=\"114,-110.5 114,-146.5 \"/>\n<text text-anchor=\"middle\" x=\"157\" y=\"-124.8\" font-family=\"Times,serif\" font-size=\"14.00\">grad. 0.0000</text>\n</g>\n<!-- 140687091444080&#45;&gt;140687091935888* -->\n<g id=\"edge12\" class=\"edge\">\n<title>140687091444080&#45;&gt;140687091935888*</title>\n<path fill=\"none\" stroke=\"black\" d=\"M200.17,-128.5C210.66,-128.5 220.79,-128.5 229.82,-128.5\"/>\n<polygon fill=\"black\" stroke=\"black\" points=\"229.89,-132 239.89,-128.5 229.89,-125 229.89,-132\"/>\n</g>\n<!-- 140687091444128 -->\n<g id=\"node11\" class=\"node\">\n<title>140687091444128</title>\n<polygon fill=\"none\" stroke=\"black\" points=\"2.5,-55.5 2.5,-91.5 201.5,-91.5 201.5,-55.5 2.5,-55.5\"/>\n<text text-anchor=\"middle\" x=\"19\" y=\"-69.8\" font-family=\"Times,serif\" font-size=\"14.00\">w2</text>\n<polyline fill=\"none\" stroke=\"black\" points=\"35.5,-55.5 35.5,-91.5 \"/>\n<text text-anchor=\"middle\" x=\"75.5\" y=\"-69.8\" font-family=\"Times,serif\" font-size=\"14.00\">data 1.0000</text>\n<polyline fill=\"none\" stroke=\"black\" points=\"115.5,-55.5 115.5,-91.5 \"/>\n<text text-anchor=\"middle\" x=\"158.5\" y=\"-69.8\" font-family=\"Times,serif\" font-size=\"14.00\">grad. 0.0000</text>\n</g>\n<!-- 140687091444128&#45;&gt;140687091935360* -->\n<g id=\"edge6\" class=\"edge\">\n<title>140687091444128&#45;&gt;140687091935360*</title>\n<path fill=\"none\" stroke=\"black\" d=\"M201.58,-73.5C211.59,-73.5 221.24,-73.5 229.89,-73.5\"/>\n<polygon fill=\"black\" stroke=\"black\" points=\"229.9,-77 239.9,-73.5 229.9,-70 229.9,-77\"/>\n</g>\n<!-- 140687092345776 -->\n<g id=\"node12\" class=\"node\">\n<title>140687092345776</title>\n<polygon fill=\"none\" stroke=\"black\" points=\"1398,-109.5 1398,-145.5 1587,-145.5 1587,-109.5 1398,-109.5\"/>\n<text text-anchor=\"middle\" x=\"1409.5\" y=\"-123.8\" font-family=\"Times,serif\" font-size=\"14.00\">o</text>\n<polyline fill=\"none\" stroke=\"black\" points=\"1421,-109.5 1421,-145.5 \"/>\n<text text-anchor=\"middle\" x=\"1461\" y=\"-123.8\" font-family=\"Times,serif\" font-size=\"14.00\">data 0.7071</text>\n<polyline fill=\"none\" stroke=\"black\" points=\"1501,-109.5 1501,-145.5 \"/>\n<text text-anchor=\"middle\" x=\"1544\" y=\"-123.8\" font-family=\"Times,serif\" font-size=\"14.00\">grad. 0.0000</text>\n</g>\n<!-- 140687092345776tanh&#45;&gt;140687092345776 -->\n<g id=\"edge5\" class=\"edge\">\n<title>140687092345776tanh&#45;&gt;140687092345776</title>\n<path fill=\"none\" stroke=\"black\" d=\"M1362.03,-127.5C1369.66,-127.5 1378.52,-127.5 1387.94,-127.5\"/>\n<polygon fill=\"black\" stroke=\"black\" points=\"1387.94,-131 1397.94,-127.5 1387.94,-124 1387.94,-131\"/>\n</g>\n<!-- 140687091442112 -->\n<g id=\"node14\" class=\"node\">\n<title>140687091442112</title>\n<polygon fill=\"none\" stroke=\"black\" points=\"724,-137.5 724,-173.5 913,-173.5 913,-137.5 724,-137.5\"/>\n<text text-anchor=\"middle\" x=\"735.5\" y=\"-151.8\" font-family=\"Times,serif\" font-size=\"14.00\">b</text>\n<polyline fill=\"none\" stroke=\"black\" points=\"747,-137.5 747,-173.5 \"/>\n<text text-anchor=\"middle\" x=\"787\" y=\"-151.8\" font-family=\"Times,serif\" font-size=\"14.00\">data 6.8814</text>\n<polyline fill=\"none\" stroke=\"black\" points=\"827,-137.5 827,-173.5 \"/>\n<text text-anchor=\"middle\" x=\"870\" y=\"-151.8\" font-family=\"Times,serif\" font-size=\"14.00\">grad. 0.0000</text>\n</g>\n<!-- 140687091442112&#45;&gt;140687093230896+ -->\n<g id=\"edge8\" class=\"edge\">\n<title>140687091442112&#45;&gt;140687093230896+</title>\n<path fill=\"none\" stroke=\"black\" d=\"M913.12,-142.36C938.17,-138.84 963.75,-135.25 983.49,-132.48\"/>\n<polygon fill=\"black\" stroke=\"black\" points=\"984.11,-135.93 993.53,-131.08 983.14,-129 984.11,-135.93\"/>\n</g>\n<!-- 140687091444176 -->\n<g id=\"node15\" class=\"node\">\n<title>140687091444176</title>\n<polygon fill=\"none\" stroke=\"black\" points=\"4,-0.5 4,-36.5 200,-36.5 200,-0.5 4,-0.5\"/>\n<text text-anchor=\"middle\" x=\"19\" y=\"-14.8\" font-family=\"Times,serif\" font-size=\"14.00\">x2</text>\n<polyline fill=\"none\" stroke=\"black\" points=\"34,-0.5 34,-36.5 \"/>\n<text text-anchor=\"middle\" x=\"74\" y=\"-14.8\" font-family=\"Times,serif\" font-size=\"14.00\">data 0.0000</text>\n<polyline fill=\"none\" stroke=\"black\" points=\"114,-0.5 114,-36.5 \"/>\n<text text-anchor=\"middle\" x=\"157\" y=\"-14.8\" font-family=\"Times,serif\" font-size=\"14.00\">grad. 0.0000</text>\n</g>\n<!-- 140687091444176&#45;&gt;140687091935360* -->\n<g id=\"edge14\" class=\"edge\">\n<title>140687091444176&#45;&gt;140687091935360*</title>\n<path fill=\"none\" stroke=\"black\" d=\"M172.94,-36.51C183.43,-39.61 194.05,-42.97 204,-46.5 214.29,-50.15 225.29,-54.71 235.12,-59.04\"/>\n<polygon fill=\"black\" stroke=\"black\" points=\"233.94,-62.34 244.49,-63.25 236.8,-55.96 233.94,-62.34\"/>\n</g>\n</g>\n</svg>\n"
          },
          "metadata": {},
          "execution_count": 15
        }
      ]
    },
    {
      "cell_type": "markdown",
      "source": [
        "![Single-Layered-neural-network.jpg](data:image/jpeg;base64,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)"
      ],
      "metadata": {
        "id": "OYs__FLtNC6i"
      }
    },
    {
      "cell_type": "code",
      "source": [
        "# building a neural network \n",
        "\n",
        "# inputs x1, x2 \n",
        "x1 = Value(2.0, label ='x1')\n",
        "x2 = Value(0.0, label ='x2')\n",
        "\n",
        "# Weights x1, w2 \n",
        "w1 = Value(-3.0, label ='w1')\n",
        "w2 = Value(1.0, label ='w2')\n",
        "\n",
        "# bias of the neuron \n",
        "# 6.7, 8, 6.8813735870195432\n",
        "b = Value(6.8813735870195432, label ='b')\n",
        "\n",
        "# x1w1 + x2w2 + b \n",
        "x1w1= x1*w1; x1w1.label = 'x1*w1'\n",
        "x2w2= x2*w2; x2w2.label = 'x2*w2'\n",
        "\n",
        "x1w1x2w2 = x1w1 + x2w2; x1w1x2w2.label = 'x1*w1 + x2*w2'\n",
        "n = x1w1x2w2 + b ; n.label ='n'\n",
        "# ------------------------\n",
        "o = n.tanh(); o.label='o'\n",
        "print(e)\n",
        "# o = (e-1) / (e+1)\n",
        "# # ------------------------\n",
        "# o.label = 'o'\n",
        "o.backward()\n",
        "draw_dot(o)\n"
      ],
      "metadata": {
        "colab": {
          "base_uri": "https://localhost:8080/",
          "height": 338
        },
        "id": "SLPWjvDsYILz",
        "outputId": "83562116-d0bf-4c25-866a-d88ecdf79de2"
      },
      "execution_count": null,
      "outputs": [
        {
          "output_type": "stream",
          "name": "stdout",
          "text": [
            "Value(data)=-6.2624\n"
          ]
        },
        {
          "output_type": "execute_result",
          "data": {
            "text/plain": [
              "<graphviz.dot.Digraph at 0x7ff4441c2910>"
            ],
            "image/svg+xml": "<?xml version=\"1.0\" encoding=\"UTF-8\" standalone=\"no\"?>\n<!DOCTYPE svg PUBLIC \"-//W3C//DTD SVG 1.1//EN\"\n \"http://www.w3.org/Graphics/SVG/1.1/DTD/svg11.dtd\">\n<!-- Generated by graphviz version 2.43.0 (0)\n -->\n<!-- Title: %3 Pages: 1 -->\n<svg width=\"1595pt\" height=\"210pt\"\n viewBox=\"0.00 0.00 1595.00 210.00\" xmlns=\"http://www.w3.org/2000/svg\" xmlns:xlink=\"http://www.w3.org/1999/xlink\">\n<g id=\"graph0\" class=\"graph\" transform=\"scale(1 1) rotate(0) translate(4 206)\">\n<title>%3</title>\n<polygon fill=\"white\" stroke=\"transparent\" points=\"-4,4 -4,-206 1591,-206 1591,4 -4,4\"/>\n<!-- 140687091473424 -->\n<g id=\"node1\" class=\"node\">\n<title>140687091473424</title>\n<polygon fill=\"none\" stroke=\"black\" points=\"1398,-54.5 1398,-90.5 1587,-90.5 1587,-54.5 1398,-54.5\"/>\n<text text-anchor=\"middle\" x=\"1409.5\" y=\"-68.8\" font-family=\"Times,serif\" font-size=\"14.00\">o</text>\n<polyline fill=\"none\" stroke=\"black\" points=\"1421,-54.5 1421,-90.5 \"/>\n<text text-anchor=\"middle\" x=\"1461\" y=\"-68.8\" font-family=\"Times,serif\" font-size=\"14.00\">data 0.7071</text>\n<polyline fill=\"none\" stroke=\"black\" points=\"1501,-54.5 1501,-90.5 \"/>\n<text text-anchor=\"middle\" x=\"1544\" y=\"-68.8\" font-family=\"Times,serif\" font-size=\"14.00\">grad. 1.0000</text>\n</g>\n<!-- 140687091473424tanh -->\n<g id=\"node2\" class=\"node\">\n<title>140687091473424tanh</title>\n<ellipse fill=\"none\" stroke=\"black\" cx=\"1335\" cy=\"-72.5\" rx=\"27\" ry=\"18\"/>\n<text text-anchor=\"middle\" x=\"1335\" y=\"-68.8\" font-family=\"Times,serif\" font-size=\"14.00\">tanh</text>\n</g>\n<!-- 140687091473424tanh&#45;&gt;140687091473424 -->\n<g id=\"edge1\" class=\"edge\">\n<title>140687091473424tanh&#45;&gt;140687091473424</title>\n<path fill=\"none\" stroke=\"black\" d=\"M1362.03,-72.5C1369.66,-72.5 1378.52,-72.5 1387.94,-72.5\"/>\n<polygon fill=\"black\" stroke=\"black\" points=\"1387.94,-76 1397.94,-72.5 1387.94,-69 1387.94,-76\"/>\n</g>\n<!-- 140687091473952 -->\n<g id=\"node3\" class=\"node\">\n<title>140687091473952</title>\n<polygon fill=\"none\" stroke=\"black\" points=\"332.5,-110.5 332.5,-146.5 551.5,-146.5 551.5,-110.5 332.5,-110.5\"/>\n<text text-anchor=\"middle\" x=\"359\" y=\"-124.8\" font-family=\"Times,serif\" font-size=\"14.00\">x2*w2</text>\n<polyline fill=\"none\" stroke=\"black\" points=\"385.5,-110.5 385.5,-146.5 \"/>\n<text text-anchor=\"middle\" x=\"425.5\" y=\"-124.8\" font-family=\"Times,serif\" font-size=\"14.00\">data 0.0000</text>\n<polyline fill=\"none\" stroke=\"black\" points=\"465.5,-110.5 465.5,-146.5 \"/>\n<text text-anchor=\"middle\" x=\"508.5\" y=\"-124.8\" font-family=\"Times,serif\" font-size=\"14.00\">grad. 0.5000</text>\n</g>\n<!-- 140687091474144+ -->\n<g id=\"node9\" class=\"node\">\n<title>140687091474144+</title>\n<ellipse fill=\"none\" stroke=\"black\" cx=\"617\" cy=\"-100.5\" rx=\"27\" ry=\"18\"/>\n<text text-anchor=\"middle\" x=\"617\" y=\"-96.8\" font-family=\"Times,serif\" font-size=\"14.00\">+</text>\n</g>\n<!-- 140687091473952&#45;&gt;140687091474144+ -->\n<g id=\"edge13\" class=\"edge\">\n<title>140687091473952&#45;&gt;140687091474144+</title>\n<path fill=\"none\" stroke=\"black\" d=\"M551.58,-110.93C561.91,-109.25 571.79,-107.66 580.57,-106.23\"/>\n<polygon fill=\"black\" stroke=\"black\" points=\"581.39,-109.65 590.7,-104.59 580.27,-102.74 581.39,-109.65\"/>\n</g>\n<!-- 140687091473952* -->\n<g id=\"node4\" class=\"node\">\n<title>140687091473952*</title>\n<ellipse fill=\"none\" stroke=\"black\" cx=\"267\" cy=\"-128.5\" rx=\"27\" ry=\"18\"/>\n<text text-anchor=\"middle\" x=\"267\" y=\"-124.8\" font-family=\"Times,serif\" font-size=\"14.00\">*</text>\n</g>\n<!-- 140687091473952*&#45;&gt;140687091473952 -->\n<g id=\"edge2\" class=\"edge\">\n<title>140687091473952*&#45;&gt;140687091473952</title>\n<path fill=\"none\" stroke=\"black\" d=\"M294.27,-128.5C302.44,-128.5 312.03,-128.5 322.33,-128.5\"/>\n<polygon fill=\"black\" stroke=\"black\" points=\"322.39,-132 332.39,-128.5 322.39,-125 322.39,-132\"/>\n</g>\n<!-- 140687091474384 -->\n<g id=\"node5\" class=\"node\">\n<title>140687091474384</title>\n<polygon fill=\"none\" stroke=\"black\" points=\"1083,-54.5 1083,-90.5 1272,-90.5 1272,-54.5 1083,-54.5\"/>\n<text text-anchor=\"middle\" x=\"1094.5\" y=\"-68.8\" font-family=\"Times,serif\" font-size=\"14.00\">n</text>\n<polyline fill=\"none\" stroke=\"black\" points=\"1106,-54.5 1106,-90.5 \"/>\n<text text-anchor=\"middle\" x=\"1146\" y=\"-68.8\" font-family=\"Times,serif\" font-size=\"14.00\">data 0.8814</text>\n<polyline fill=\"none\" stroke=\"black\" points=\"1186,-54.5 1186,-90.5 \"/>\n<text text-anchor=\"middle\" x=\"1229\" y=\"-68.8\" font-family=\"Times,serif\" font-size=\"14.00\">grad. 0.5000</text>\n</g>\n<!-- 140687091474384&#45;&gt;140687091473424tanh -->\n<g id=\"edge12\" class=\"edge\">\n<title>140687091474384&#45;&gt;140687091473424tanh</title>\n<path fill=\"none\" stroke=\"black\" d=\"M1272.1,-72.5C1281.12,-72.5 1289.84,-72.5 1297.75,-72.5\"/>\n<polygon fill=\"black\" stroke=\"black\" points=\"1297.99,-76 1307.99,-72.5 1297.99,-69 1297.99,-76\"/>\n</g>\n<!-- 140687091474384+ -->\n<g id=\"node6\" class=\"node\">\n<title>140687091474384+</title>\n<ellipse fill=\"none\" stroke=\"black\" cx=\"1020\" cy=\"-72.5\" rx=\"27\" ry=\"18\"/>\n<text text-anchor=\"middle\" x=\"1020\" y=\"-68.8\" font-family=\"Times,serif\" font-size=\"14.00\">+</text>\n</g>\n<!-- 140687091474384+&#45;&gt;140687091474384 -->\n<g id=\"edge3\" class=\"edge\">\n<title>140687091474384+&#45;&gt;140687091474384</title>\n<path fill=\"none\" stroke=\"black\" d=\"M1047.03,-72.5C1054.66,-72.5 1063.52,-72.5 1072.94,-72.5\"/>\n<polygon fill=\"black\" stroke=\"black\" points=\"1072.94,-76 1082.94,-72.5 1072.94,-69 1072.94,-76\"/>\n</g>\n<!-- 140687091882640 -->\n<g id=\"node7\" class=\"node\">\n<title>140687091882640</title>\n<polygon fill=\"none\" stroke=\"black\" points=\"0,-55.5 0,-91.5 204,-91.5 204,-55.5 0,-55.5\"/>\n<text text-anchor=\"middle\" x=\"16.5\" y=\"-69.8\" font-family=\"Times,serif\" font-size=\"14.00\">w1</text>\n<polyline fill=\"none\" stroke=\"black\" points=\"33,-55.5 33,-91.5 \"/>\n<text text-anchor=\"middle\" x=\"75.5\" y=\"-69.8\" font-family=\"Times,serif\" font-size=\"14.00\">data &#45;3.0000</text>\n<polyline fill=\"none\" stroke=\"black\" points=\"118,-55.5 118,-91.5 \"/>\n<text text-anchor=\"middle\" x=\"161\" y=\"-69.8\" font-family=\"Times,serif\" font-size=\"14.00\">grad. 1.0000</text>\n</g>\n<!-- 140687091473904* -->\n<g id=\"node15\" class=\"node\">\n<title>140687091473904*</title>\n<ellipse fill=\"none\" stroke=\"black\" cx=\"267\" cy=\"-73.5\" rx=\"27\" ry=\"18\"/>\n<text text-anchor=\"middle\" x=\"267\" y=\"-69.8\" font-family=\"Times,serif\" font-size=\"14.00\">*</text>\n</g>\n<!-- 140687091882640&#45;&gt;140687091473904* -->\n<g id=\"edge9\" class=\"edge\">\n<title>140687091882640&#45;&gt;140687091473904*</title>\n<path fill=\"none\" stroke=\"black\" d=\"M204.38,-73.5C213.37,-73.5 222.01,-73.5 229.84,-73.5\"/>\n<polygon fill=\"black\" stroke=\"black\" points=\"229.97,-77 239.97,-73.5 229.97,-70 229.97,-77\"/>\n</g>\n<!-- 140687091474144 -->\n<g id=\"node8\" class=\"node\">\n<title>140687091474144</title>\n<polygon fill=\"none\" stroke=\"black\" points=\"680,-82.5 680,-118.5 957,-118.5 957,-82.5 680,-82.5\"/>\n<text text-anchor=\"middle\" x=\"733\" y=\"-96.8\" font-family=\"Times,serif\" font-size=\"14.00\">x1*w1 + x2*w2</text>\n<polyline fill=\"none\" stroke=\"black\" points=\"786,-82.5 786,-118.5 \"/>\n<text text-anchor=\"middle\" x=\"828.5\" y=\"-96.8\" font-family=\"Times,serif\" font-size=\"14.00\">data &#45;6.0000</text>\n<polyline fill=\"none\" stroke=\"black\" points=\"871,-82.5 871,-118.5 \"/>\n<text text-anchor=\"middle\" x=\"914\" y=\"-96.8\" font-family=\"Times,serif\" font-size=\"14.00\">grad. 0.5000</text>\n</g>\n<!-- 140687091474144&#45;&gt;140687091474384+ -->\n<g id=\"edge14\" class=\"edge\">\n<title>140687091474144&#45;&gt;140687091474384+</title>\n<path fill=\"none\" stroke=\"black\" d=\"M947.82,-82.49C960.76,-80.67 972.99,-78.96 983.55,-77.48\"/>\n<polygon fill=\"black\" stroke=\"black\" points=\"984.1,-80.93 993.51,-76.08 983.12,-74 984.1,-80.93\"/>\n</g>\n<!-- 140687091474144+&#45;&gt;140687091474144 -->\n<g id=\"edge4\" class=\"edge\">\n<title>140687091474144+&#45;&gt;140687091474144</title>\n<path fill=\"none\" stroke=\"black\" d=\"M644.08,-100.5C651.53,-100.5 660.21,-100.5 669.65,-100.5\"/>\n<polygon fill=\"black\" stroke=\"black\" points=\"669.74,-104 679.74,-100.5 669.74,-97 669.74,-104\"/>\n</g>\n<!-- 140687091882256 -->\n<g id=\"node10\" class=\"node\">\n<title>140687091882256</title>\n<polygon fill=\"none\" stroke=\"black\" points=\"2.5,-165.5 2.5,-201.5 201.5,-201.5 201.5,-165.5 2.5,-165.5\"/>\n<text text-anchor=\"middle\" x=\"19\" y=\"-179.8\" font-family=\"Times,serif\" font-size=\"14.00\">w2</text>\n<polyline fill=\"none\" stroke=\"black\" points=\"35.5,-165.5 35.5,-201.5 \"/>\n<text text-anchor=\"middle\" x=\"75.5\" y=\"-179.8\" font-family=\"Times,serif\" font-size=\"14.00\">data 1.0000</text>\n<polyline fill=\"none\" stroke=\"black\" points=\"115.5,-165.5 115.5,-201.5 \"/>\n<text text-anchor=\"middle\" x=\"158.5\" y=\"-179.8\" font-family=\"Times,serif\" font-size=\"14.00\">grad. 0.0000</text>\n</g>\n<!-- 140687091882256&#45;&gt;140687091473952* -->\n<g id=\"edge7\" class=\"edge\">\n<title>140687091882256&#45;&gt;140687091473952*</title>\n<path fill=\"none\" stroke=\"black\" d=\"M176.26,-165.43C185.67,-162.67 195.11,-159.67 204,-156.5 214.54,-152.74 225.77,-147.93 235.73,-143.36\"/>\n<polygon fill=\"black\" stroke=\"black\" points=\"237.26,-146.51 244.83,-139.09 234.29,-140.17 237.26,-146.51\"/>\n</g>\n<!-- 140687091882832 -->\n<g id=\"node11\" class=\"node\">\n<title>140687091882832</title>\n<polygon fill=\"none\" stroke=\"black\" points=\"4,-110.5 4,-146.5 200,-146.5 200,-110.5 4,-110.5\"/>\n<text text-anchor=\"middle\" x=\"19\" y=\"-124.8\" font-family=\"Times,serif\" font-size=\"14.00\">x2</text>\n<polyline fill=\"none\" stroke=\"black\" points=\"34,-110.5 34,-146.5 \"/>\n<text text-anchor=\"middle\" x=\"74\" y=\"-124.8\" font-family=\"Times,serif\" font-size=\"14.00\">data 0.0000</text>\n<polyline fill=\"none\" stroke=\"black\" points=\"114,-110.5 114,-146.5 \"/>\n<text text-anchor=\"middle\" x=\"157\" y=\"-124.8\" font-family=\"Times,serif\" font-size=\"14.00\">grad. 0.5000</text>\n</g>\n<!-- 140687091882832&#45;&gt;140687091473952* -->\n<g id=\"edge8\" class=\"edge\">\n<title>140687091882832&#45;&gt;140687091473952*</title>\n<path fill=\"none\" stroke=\"black\" d=\"M200.17,-128.5C210.66,-128.5 220.79,-128.5 229.82,-128.5\"/>\n<polygon fill=\"black\" stroke=\"black\" points=\"229.89,-132 239.89,-128.5 229.89,-125 229.89,-132\"/>\n</g>\n<!-- 140687091882880 -->\n<g id=\"node12\" class=\"node\">\n<title>140687091882880</title>\n<polygon fill=\"none\" stroke=\"black\" points=\"2,-0.5 2,-36.5 202,-36.5 202,-0.5 2,-0.5\"/>\n<text text-anchor=\"middle\" x=\"17\" y=\"-14.8\" font-family=\"Times,serif\" font-size=\"14.00\">x1</text>\n<polyline fill=\"none\" stroke=\"black\" points=\"32,-0.5 32,-36.5 \"/>\n<text text-anchor=\"middle\" x=\"72\" y=\"-14.8\" font-family=\"Times,serif\" font-size=\"14.00\">data 2.0000</text>\n<polyline fill=\"none\" stroke=\"black\" points=\"112,-0.5 112,-36.5 \"/>\n<text text-anchor=\"middle\" x=\"157\" y=\"-14.8\" font-family=\"Times,serif\" font-size=\"14.00\">grad. &#45;1.5000</text>\n</g>\n<!-- 140687091882880&#45;&gt;140687091473904* -->\n<g id=\"edge6\" class=\"edge\">\n<title>140687091882880&#45;&gt;140687091473904*</title>\n<path fill=\"none\" stroke=\"black\" d=\"M176.26,-36.57C185.67,-39.33 195.11,-42.33 204,-45.5 214.54,-49.26 225.77,-54.07 235.73,-58.64\"/>\n<polygon fill=\"black\" stroke=\"black\" points=\"234.29,-61.83 244.83,-62.91 237.26,-55.49 234.29,-61.83\"/>\n</g>\n<!-- 140687091827664 -->\n<g id=\"node13\" class=\"node\">\n<title>140687091827664</title>\n<polygon fill=\"none\" stroke=\"black\" points=\"724,-27.5 724,-63.5 913,-63.5 913,-27.5 724,-27.5\"/>\n<text text-anchor=\"middle\" x=\"735.5\" y=\"-41.8\" font-family=\"Times,serif\" font-size=\"14.00\">b</text>\n<polyline fill=\"none\" stroke=\"black\" points=\"747,-27.5 747,-63.5 \"/>\n<text text-anchor=\"middle\" x=\"787\" y=\"-41.8\" font-family=\"Times,serif\" font-size=\"14.00\">data 6.8814</text>\n<polyline fill=\"none\" stroke=\"black\" points=\"827,-27.5 827,-63.5 \"/>\n<text text-anchor=\"middle\" x=\"870\" y=\"-41.8\" font-family=\"Times,serif\" font-size=\"14.00\">grad. 0.5000</text>\n</g>\n<!-- 140687091827664&#45;&gt;140687091474384+ -->\n<g id=\"edge10\" class=\"edge\">\n<title>140687091827664&#45;&gt;140687091474384+</title>\n<path fill=\"none\" stroke=\"black\" d=\"M913.12,-58.17C938,-61.54 963.4,-64.98 983.08,-67.64\"/>\n<polygon fill=\"black\" stroke=\"black\" points=\"982.72,-71.12 993.1,-68.99 983.66,-64.19 982.72,-71.12\"/>\n</g>\n<!-- 140687091473904 -->\n<g id=\"node14\" class=\"node\">\n<title>140687091473904</title>\n<polygon fill=\"none\" stroke=\"black\" points=\"330,-55.5 330,-91.5 554,-91.5 554,-55.5 330,-55.5\"/>\n<text text-anchor=\"middle\" x=\"356.5\" y=\"-69.8\" font-family=\"Times,serif\" font-size=\"14.00\">x1*w1</text>\n<polyline fill=\"none\" stroke=\"black\" points=\"383,-55.5 383,-91.5 \"/>\n<text text-anchor=\"middle\" x=\"425.5\" y=\"-69.8\" font-family=\"Times,serif\" font-size=\"14.00\">data &#45;6.0000</text>\n<polyline fill=\"none\" stroke=\"black\" points=\"468,-55.5 468,-91.5 \"/>\n<text text-anchor=\"middle\" x=\"511\" y=\"-69.8\" font-family=\"Times,serif\" font-size=\"14.00\">grad. 0.5000</text>\n</g>\n<!-- 140687091473904&#45;&gt;140687091474144+ -->\n<g id=\"edge11\" class=\"edge\">\n<title>140687091473904&#45;&gt;140687091474144+</title>\n<path fill=\"none\" stroke=\"black\" d=\"M554.03,-90.83C563.46,-92.3 572.46,-93.7 580.54,-94.97\"/>\n<polygon fill=\"black\" stroke=\"black\" points=\"580.16,-98.45 590.58,-96.53 581.24,-91.53 580.16,-98.45\"/>\n</g>\n<!-- 140687091473904*&#45;&gt;140687091473904 -->\n<g id=\"edge5\" class=\"edge\">\n<title>140687091473904*&#45;&gt;140687091473904</title>\n<path fill=\"none\" stroke=\"black\" d=\"M294.27,-73.5C301.7,-73.5 310.31,-73.5 319.55,-73.5\"/>\n<polygon fill=\"black\" stroke=\"black\" points=\"319.81,-77 329.81,-73.5 319.81,-70 319.81,-77\"/>\n</g>\n</g>\n</svg>\n"
          },
          "metadata": {},
          "execution_count": 16
        }
      ]
    },
    {
      "cell_type": "code",
      "source": [
        "o = (e-1) / (e+1)\n",
        "o"
      ],
      "metadata": {
        "colab": {
          "base_uri": "https://localhost:8080/"
        },
        "id": "CXyEQfQ6Mg1h",
        "outputId": "7cbe6985-478e-498b-a17b-156e735004d6"
      },
      "execution_count": null,
      "outputs": [
        {
          "output_type": "execute_result",
          "data": {
            "text/plain": [
              "Value(data)=1.3800547278808148"
            ]
          },
          "metadata": {},
          "execution_count": 17
        }
      ]
    },
    {
      "cell_type": "markdown",
      "source": [
        "Again back-propagate \n",
        "\n",
        "o = tanh(n) <br>\n",
        "derivative of tanh = 1- tanh(n)**2 <br>\n",
        "do/dn = 1 - o * * 2 <br>\n",
        "\n",
        "local derivative \n",
        "do/dn = 1 - o.data * * 2\n"
      ],
      "metadata": {
        "id": "Qq_7NXxsbKkA"
      }
    },
    {
      "cell_type": "code",
      "source": [
        "# local derivative \n",
        "o.grad = 1.0"
      ],
      "metadata": {
        "id": "Cqy_ChCoZfKL"
      },
      "execution_count": null,
      "outputs": []
    },
    {
      "cell_type": "code",
      "source": [
        "1 - o.data**2"
      ],
      "metadata": {
        "id": "LN2oZ7xVcZHW",
        "colab": {
          "base_uri": "https://localhost:8080/"
        },
        "outputId": "4a1547ac-5213-4922-fa7f-d68d0d6358a5"
      },
      "execution_count": null,
      "outputs": [
        {
          "output_type": "execute_result",
          "data": {
            "text/plain": [
              "-0.9045510519461899"
            ]
          },
          "metadata": {},
          "execution_count": 19
        }
      ]
    },
    {
      "cell_type": "code",
      "source": [
        "draw_dot(o)"
      ],
      "metadata": {
        "id": "nCyXP3MZkWEm",
        "colab": {
          "base_uri": "https://localhost:8080/",
          "height": 81
        },
        "outputId": "2e5845b4-e9be-4e83-bbc1-83342949f301"
      },
      "execution_count": null,
      "outputs": [
        {
          "output_type": "execute_result",
          "data": {
            "text/plain": [
              "<graphviz.dot.Digraph at 0x7ff4441c2c10>"
            ],
            "image/svg+xml": "<?xml version=\"1.0\" encoding=\"UTF-8\" standalone=\"no\"?>\n<!DOCTYPE svg PUBLIC \"-//W3C//DTD SVG 1.1//EN\"\n \"http://www.w3.org/Graphics/SVG/1.1/DTD/svg11.dtd\">\n<!-- Generated by graphviz version 2.43.0 (0)\n -->\n<!-- Title: %3 Pages: 1 -->\n<svg width=\"194pt\" height=\"45pt\"\n viewBox=\"0.00 0.00 194.00 45.00\" xmlns=\"http://www.w3.org/2000/svg\" xmlns:xlink=\"http://www.w3.org/1999/xlink\">\n<g id=\"graph0\" class=\"graph\" transform=\"scale(1 1) rotate(0) translate(4 41)\">\n<title>%3</title>\n<polygon fill=\"white\" stroke=\"transparent\" points=\"-4,4 -4,-41 190,-41 190,4 -4,4\"/>\n<!-- 140687091471840 -->\n<g id=\"node1\" class=\"node\">\n<title>140687091471840</title>\n<polygon fill=\"none\" stroke=\"black\" points=\"0,-0.5 0,-36.5 186,-36.5 186,-0.5 0,-0.5\"/>\n<text text-anchor=\"middle\" x=\"10\" y=\"-14.8\" font-family=\"Times,serif\" font-size=\"14.00\"> </text>\n<polyline fill=\"none\" stroke=\"black\" points=\"20,-0.5 20,-36.5 \"/>\n<text text-anchor=\"middle\" x=\"60\" y=\"-14.8\" font-family=\"Times,serif\" font-size=\"14.00\">data 1.3801</text>\n<polyline fill=\"none\" stroke=\"black\" points=\"100,-0.5 100,-36.5 \"/>\n<text text-anchor=\"middle\" x=\"143\" y=\"-14.8\" font-family=\"Times,serif\" font-size=\"14.00\">grad. 1.0000</text>\n</g>\n</g>\n</svg>\n"
          },
          "metadata": {},
          "execution_count": 20
        }
      ]
    },
    {
      "cell_type": "code",
      "source": [
        "# n grad = 1 - tanh(n)**2\n",
        "n.grad = 0.5"
      ],
      "metadata": {
        "id": "243ZLWmHjlQF"
      },
      "execution_count": null,
      "outputs": []
    },
    {
      "cell_type": "code",
      "source": [
        "# + derivative flows equal \n",
        "x1w1x2w2.grad = 0.5\n",
        "b.grad = 0.5"
      ],
      "metadata": {
        "id": "Du-8-jivkbhi"
      },
      "execution_count": null,
      "outputs": []
    },
    {
      "cell_type": "code",
      "source": [
        "# + derivative flows equal \n",
        "x1w1.grad = 0.5 * 1\n",
        "x2w2.grad = 0.5 * 1"
      ],
      "metadata": {
        "id": "kyZEzVSLlQ8I"
      },
      "execution_count": null,
      "outputs": []
    },
    {
      "cell_type": "code",
      "source": [
        "# * derivate \n",
        "x2.grad = w2.data * x2w2.grad\n",
        "w2.grad = x2.data * x2w2.grad"
      ],
      "metadata": {
        "id": "9C99RbwMlhn7"
      },
      "execution_count": null,
      "outputs": []
    },
    {
      "cell_type": "code",
      "source": [
        "x1.grad = w1.data * x1w1.grad \n",
        "w1.grad = x1.data * x1w1.grad "
      ],
      "metadata": {
        "id": "17bQztuimaHT"
      },
      "execution_count": null,
      "outputs": []
    },
    {
      "cell_type": "code",
      "source": [
        "draw_dot(o)"
      ],
      "metadata": {
        "id": "Cla-Oprpmtnm",
        "colab": {
          "base_uri": "https://localhost:8080/",
          "height": 81
        },
        "outputId": "6fdc4f51-73c3-4e01-8943-d5b1db3beeec"
      },
      "execution_count": null,
      "outputs": [
        {
          "output_type": "execute_result",
          "data": {
            "text/plain": [
              "<graphviz.dot.Digraph at 0x7ff444227a30>"
            ],
            "image/svg+xml": "<?xml version=\"1.0\" encoding=\"UTF-8\" standalone=\"no\"?>\n<!DOCTYPE svg PUBLIC \"-//W3C//DTD SVG 1.1//EN\"\n \"http://www.w3.org/Graphics/SVG/1.1/DTD/svg11.dtd\">\n<!-- Generated by graphviz version 2.43.0 (0)\n -->\n<!-- Title: %3 Pages: 1 -->\n<svg width=\"194pt\" height=\"45pt\"\n viewBox=\"0.00 0.00 194.00 45.00\" xmlns=\"http://www.w3.org/2000/svg\" xmlns:xlink=\"http://www.w3.org/1999/xlink\">\n<g id=\"graph0\" class=\"graph\" transform=\"scale(1 1) rotate(0) translate(4 41)\">\n<title>%3</title>\n<polygon fill=\"white\" stroke=\"transparent\" points=\"-4,4 -4,-41 190,-41 190,4 -4,4\"/>\n<!-- 140687091471840 -->\n<g id=\"node1\" class=\"node\">\n<title>140687091471840</title>\n<polygon fill=\"none\" stroke=\"black\" points=\"0,-0.5 0,-36.5 186,-36.5 186,-0.5 0,-0.5\"/>\n<text text-anchor=\"middle\" x=\"10\" y=\"-14.8\" font-family=\"Times,serif\" font-size=\"14.00\"> </text>\n<polyline fill=\"none\" stroke=\"black\" points=\"20,-0.5 20,-36.5 \"/>\n<text text-anchor=\"middle\" x=\"60\" y=\"-14.8\" font-family=\"Times,serif\" font-size=\"14.00\">data 1.3801</text>\n<polyline fill=\"none\" stroke=\"black\" points=\"100,-0.5 100,-36.5 \"/>\n<text text-anchor=\"middle\" x=\"143\" y=\"-14.8\" font-family=\"Times,serif\" font-size=\"14.00\">grad. 1.0000</text>\n</g>\n</g>\n</svg>\n"
          },
          "metadata": {},
          "execution_count": 26
        }
      ]
    },
    {
      "cell_type": "code",
      "source": [
        "draw_dot(o)"
      ],
      "metadata": {
        "id": "eJKANp4Pr3xi",
        "colab": {
          "base_uri": "https://localhost:8080/",
          "height": 81
        },
        "outputId": "56e4b6b4-c4d5-432d-8779-93831b4249b4"
      },
      "execution_count": null,
      "outputs": [
        {
          "output_type": "execute_result",
          "data": {
            "text/plain": [
              "<graphviz.dot.Digraph at 0x7ff444371ac0>"
            ],
            "image/svg+xml": "<?xml version=\"1.0\" encoding=\"UTF-8\" standalone=\"no\"?>\n<!DOCTYPE svg PUBLIC \"-//W3C//DTD SVG 1.1//EN\"\n \"http://www.w3.org/Graphics/SVG/1.1/DTD/svg11.dtd\">\n<!-- Generated by graphviz version 2.43.0 (0)\n -->\n<!-- Title: %3 Pages: 1 -->\n<svg width=\"194pt\" height=\"45pt\"\n viewBox=\"0.00 0.00 194.00 45.00\" xmlns=\"http://www.w3.org/2000/svg\" xmlns:xlink=\"http://www.w3.org/1999/xlink\">\n<g id=\"graph0\" class=\"graph\" transform=\"scale(1 1) rotate(0) translate(4 41)\">\n<title>%3</title>\n<polygon fill=\"white\" stroke=\"transparent\" points=\"-4,4 -4,-41 190,-41 190,4 -4,4\"/>\n<!-- 140687091471840 -->\n<g id=\"node1\" class=\"node\">\n<title>140687091471840</title>\n<polygon fill=\"none\" stroke=\"black\" points=\"0,-0.5 0,-36.5 186,-36.5 186,-0.5 0,-0.5\"/>\n<text text-anchor=\"middle\" x=\"10\" y=\"-14.8\" font-family=\"Times,serif\" font-size=\"14.00\"> </text>\n<polyline fill=\"none\" stroke=\"black\" points=\"20,-0.5 20,-36.5 \"/>\n<text text-anchor=\"middle\" x=\"60\" y=\"-14.8\" font-family=\"Times,serif\" font-size=\"14.00\">data 1.3801</text>\n<polyline fill=\"none\" stroke=\"black\" points=\"100,-0.5 100,-36.5 \"/>\n<text text-anchor=\"middle\" x=\"143\" y=\"-14.8\" font-family=\"Times,serif\" font-size=\"14.00\">grad. 1.0000</text>\n</g>\n</g>\n</svg>\n"
          },
          "metadata": {},
          "execution_count": 27
        }
      ]
    },
    {
      "cell_type": "code",
      "source": [
        "o.grad = 1.0\n",
        "o._backward()\n",
        "# draw_dot(o)"
      ],
      "metadata": {
        "id": "RGFBpQcSqsj8"
      },
      "execution_count": null,
      "outputs": []
    },
    {
      "cell_type": "code",
      "source": [
        "n._backward()\n",
        "# draw_dot(o)"
      ],
      "metadata": {
        "id": "FJahCiNvsGNq"
      },
      "execution_count": null,
      "outputs": []
    },
    {
      "cell_type": "code",
      "source": [
        "# nothing hapens as b does not have a parent node \n",
        "b._backward()\n",
        "x2w2._backward()\n",
        "x1w1._backward()"
      ],
      "metadata": {
        "id": "mS3961TZuRGU"
      },
      "execution_count": null,
      "outputs": []
    },
    {
      "cell_type": "code",
      "source": [
        "o.grad = 1.0\n",
        "\n",
        "# Topological Sorting \n",
        "topo = []\n",
        "visited = set()\n",
        "def build_topo(v):\n",
        "  if v not in visited:\n",
        "    visited.add(v)\n",
        "    for child in v._prev:\n",
        "      build_topo(child)\n",
        "    topo.append(v)\n",
        "\n",
        "for node in reversed(topo):\n",
        "  node._backward()"
      ],
      "metadata": {
        "id": "cfNjhtCHq3t8"
      },
      "execution_count": null,
      "outputs": []
    },
    {
      "cell_type": "code",
      "source": [
        "# Topological Sorting \n",
        "topo = []\n",
        "visited = set()\n",
        "def build_topo(v):\n",
        "  if v not in visited:\n",
        "    visited.add(v)\n",
        "    for child in v._prev:\n",
        "      build_topo(child)\n",
        "    topo.append(v)\n",
        "build_topo(o)\n",
        "topo"
      ],
      "metadata": {
        "id": "DXiupND3orqm",
        "colab": {
          "base_uri": "https://localhost:8080/"
        },
        "outputId": "7878676e-a15a-4078-937c-c8690672d746"
      },
      "execution_count": null,
      "outputs": [
        {
          "output_type": "execute_result",
          "data": {
            "text/plain": [
              "[Value(data)=1.3800547278808148]"
            ]
          },
          "metadata": {},
          "execution_count": 32
        }
      ]
    },
    {
      "cell_type": "code",
      "source": [
        "o.backward()"
      ],
      "metadata": {
        "id": "O_S77wSAq1pV"
      },
      "execution_count": null,
      "outputs": []
    },
    {
      "cell_type": "code",
      "source": [
        "draw_dot(o)"
      ],
      "metadata": {
        "id": "ZxBU3Halsi3l",
        "colab": {
          "base_uri": "https://localhost:8080/",
          "height": 81
        },
        "outputId": "2dcae33d-9d1d-4cb3-84a1-4cee88923467"
      },
      "execution_count": null,
      "outputs": [
        {
          "output_type": "execute_result",
          "data": {
            "text/plain": [
              "<graphviz.dot.Digraph at 0x7ff444bd2730>"
            ],
            "image/svg+xml": "<?xml version=\"1.0\" encoding=\"UTF-8\" standalone=\"no\"?>\n<!DOCTYPE svg PUBLIC \"-//W3C//DTD SVG 1.1//EN\"\n \"http://www.w3.org/Graphics/SVG/1.1/DTD/svg11.dtd\">\n<!-- Generated by graphviz version 2.43.0 (0)\n -->\n<!-- Title: %3 Pages: 1 -->\n<svg width=\"194pt\" height=\"45pt\"\n viewBox=\"0.00 0.00 194.00 45.00\" xmlns=\"http://www.w3.org/2000/svg\" xmlns:xlink=\"http://www.w3.org/1999/xlink\">\n<g id=\"graph0\" class=\"graph\" transform=\"scale(1 1) rotate(0) translate(4 41)\">\n<title>%3</title>\n<polygon fill=\"white\" stroke=\"transparent\" points=\"-4,4 -4,-41 190,-41 190,4 -4,4\"/>\n<!-- 140687091471840 -->\n<g id=\"node1\" class=\"node\">\n<title>140687091471840</title>\n<polygon fill=\"none\" stroke=\"black\" points=\"0,-0.5 0,-36.5 186,-36.5 186,-0.5 0,-0.5\"/>\n<text text-anchor=\"middle\" x=\"10\" y=\"-14.8\" font-family=\"Times,serif\" font-size=\"14.00\"> </text>\n<polyline fill=\"none\" stroke=\"black\" points=\"20,-0.5 20,-36.5 \"/>\n<text text-anchor=\"middle\" x=\"60\" y=\"-14.8\" font-family=\"Times,serif\" font-size=\"14.00\">data 1.3801</text>\n<polyline fill=\"none\" stroke=\"black\" points=\"100,-0.5 100,-36.5 \"/>\n<text text-anchor=\"middle\" x=\"143\" y=\"-14.8\" font-family=\"Times,serif\" font-size=\"14.00\">grad. 1.0000</text>\n</g>\n</g>\n</svg>\n"
          },
          "metadata": {},
          "execution_count": 34
        }
      ]
    },
    {
      "cell_type": "markdown",
      "source": [
        "Fixing Minor Bug <br>\n"
      ],
      "metadata": {
        "id": "6sT6dbbRCqzT"
      }
    },
    {
      "cell_type": "code",
      "source": [
        "1.34 "
      ],
      "metadata": {
        "id": "6vYlq774hDfk",
        "colab": {
          "base_uri": "https://localhost:8080/"
        },
        "outputId": "9fd73cc0-f033-481c-b06d-301c52a39dcc"
      },
      "execution_count": null,
      "outputs": [
        {
          "output_type": "execute_result",
          "data": {
            "text/plain": [
              "1.34"
            ]
          },
          "metadata": {},
          "execution_count": 35
        }
      ]
    },
    {
      "cell_type": "code",
      "source": [],
      "metadata": {
        "id": "RU8-Bz6ZSK5F"
      },
      "execution_count": null,
      "outputs": []
    },
    {
      "cell_type": "code",
      "source": [
        "import math\n",
        "\n",
        "class Value:\n",
        "\n",
        "  def __init__(self, data, _children=(), _op='', label=''):\n",
        "    self.data = data\n",
        "    self.grad = 0.0\n",
        "    self._backward = lambda : None \n",
        "    self._prev = set(_children) # store the children of the operators\n",
        "    self._op = _op\n",
        "    self.label = label\n",
        "\n",
        "\n",
        "# _children notation is used for efficiency\n",
        "  \n",
        "  def __repr__(self):\n",
        "    return f\"Value(data)={self.data}\"\n",
        "\n",
        "# Internally it runs a.__add__(b) because python can't operate on Value objects \n",
        "  def __add__(self, other):\n",
        "    other = other if isinstance(other, Value) else Value(other)\n",
        "    out = Value(self.data + other.data, (self, other), '+')\n",
        "    def _backward():\n",
        "      self.grad += 1.0 * out.grad\n",
        "      other.grad += 1.0 * out.grad\n",
        "    out._backward = _backward\n",
        "\n",
        "    return out\n",
        "\n",
        "  # Internally it runs a.__mul__(b) because python can't operate on Value objects\n",
        "  def __mul__(self, other):\n",
        "    other = other if isinstance(other, Value) else Value(other)\n",
        "    out = Value(self.data * other.data, (self, other), '*')\n",
        "\n",
        "    def _backward():\n",
        "        self.grad += other.data * out.grad\n",
        "        other.grad += self.data * out.grad\n",
        "    out._backward = _backward\n",
        "\n",
        "    return out\n",
        "  \n",
        "  def __pow__(self, other):\n",
        "    assert isinstance(other, (int , float)), \"only support int/float owers for now\"\n",
        "    out = Value(self.data**other, (self, ), f'**{other}')\n",
        "\n",
        "    def _backward():\n",
        "      self.grad += other *(self.data ** (other-1)) * out.grad \n",
        "      out._backward = _backward\n",
        "\n",
        "    return out\n",
        "  \n",
        "  def __rmul__(self, other):\n",
        "    return self * other\n",
        "  \n",
        "  def __truediv__(self, other): # self / other\n",
        "    return self * (other**-1)\n",
        "      \n",
        "  def __rtruediv__(self, other): # other / self\n",
        "      return other * self**-1\n",
        "\n",
        "  def __neg__(self):\n",
        "    return self * -1 \n",
        "\n",
        "  def __sub__(self, other):\n",
        "    return self + (-other)\n",
        "\n",
        "# Activation function \n",
        "  def tanh(self):\n",
        "    x = self.data \n",
        "    t = (math.exp(2*x) - 1)/(math.exp(2*x) + 1)\n",
        "    out = Value(t, (self, ), 'tanh')\n",
        "    def _backward():\n",
        "      self.grad += (1 - t**2) * out.grad \n",
        "    \n",
        "    out._backward = _backward\n",
        "    return out \n",
        "\n",
        "  def exp(self):\n",
        "    x = self.data \n",
        "    out = Value(math.exp(x), (self,), 'exp')\n",
        "    def _backward():\n",
        "      self.grad += out.data * out.grad\n",
        "    out._backward = _backward\n",
        "    return out\n",
        "\n",
        "  def backward(self):\n",
        "# Topological Sorting \n",
        "    topo = []\n",
        "    visited = set()\n",
        "    def build_topo(v):\n",
        "      if v not in visited:\n",
        "        visited.add(v)\n",
        "        for child in v._prev:\n",
        "          build_topo(child)\n",
        "        topo.append(v)\n",
        "    build_topo(self)\n",
        "\n",
        "    self.grad = 1.0\n",
        "    for node in reversed(topo):\n",
        "      node._backward()\n",
        "\n",
        "# building a neural network \n",
        "\n",
        "# inputs x1, x2 \n",
        "x1 = Value(2.0, label ='x1')\n",
        "x2 = Value(0.0, label ='x2')\n",
        "\n",
        "# Weights x1, w2 \n",
        "w1 = Value(-3.0, label ='w1')\n",
        "w2 = Value(1.0, label ='w2')\n",
        "\n",
        "# bias of the neuron \n",
        "# 6.7, 8, 6.8813735870195432\n",
        "b = Value(6.8813735870195432, label ='b')\n",
        "\n",
        "# x1w1 + x2w2 + b \n",
        "x1w1= x1*w1; x1w1.label = 'x1*w1'\n",
        "x2w2= x2*w2; x2w2.label = 'x2*w2'\n",
        "\n",
        "x1w1x2w2 = x1w1 + x2w2; x1w1x2w2.label = 'x1*w1 + x2*w2'\n",
        "n = x1w1x2w2 + b ; n.label ='n'\n",
        "# ------------------------\n",
        "e = (2*n).exp()\n",
        "print(e)\n",
        "o = (e-1) / (e+1)\n",
        "# ------------------------\n",
        "o.label = 'o'\n",
        "o.backward()\n",
        "draw_dot(o)\n",
        "\n"
      ],
      "metadata": {
        "colab": {
          "base_uri": "https://localhost:8080/",
          "height": 373
        },
        "id": "wNGOBJOqSKvE",
        "outputId": "f07b8da1-afd2-4f38-ef88-704344e8023a"
      },
      "execution_count": null,
      "outputs": [
        {
          "output_type": "stream",
          "name": "stdout",
          "text": [
            "Value(data)=5.828427124746192\n"
          ]
        },
        {
          "output_type": "execute_result",
          "data": {
            "text/plain": [
              "<graphviz.dot.Digraph at 0x7ff4441ecf70>"
            ],
            "image/svg+xml": "<?xml version=\"1.0\" encoding=\"UTF-8\" standalone=\"no\"?>\n<!DOCTYPE svg PUBLIC \"-//W3C//DTD SVG 1.1//EN\"\n \"http://www.w3.org/Graphics/SVG/1.1/DTD/svg11.dtd\">\n<!-- Generated by graphviz version 2.43.0 (0)\n -->\n<!-- Title: %3 Pages: 1 -->\n<svg width=\"2980pt\" height=\"236pt\"\n viewBox=\"0.00 0.00 2980.00 236.00\" xmlns=\"http://www.w3.org/2000/svg\" xmlns:xlink=\"http://www.w3.org/1999/xlink\">\n<g id=\"graph0\" class=\"graph\" transform=\"scale(1 1) rotate(0) translate(4 232)\">\n<title>%3</title>\n<polygon fill=\"white\" stroke=\"transparent\" points=\"-4,4 -4,-232 2976,-232 2976,4 -4,4\"/>\n<!-- 140687091617744 -->\n<g id=\"node1\" class=\"node\">\n<title>140687091617744</title>\n<polygon fill=\"none\" stroke=\"black\" points=\"1710,-191.5 1710,-227.5 1901,-227.5 1901,-191.5 1710,-191.5\"/>\n<text text-anchor=\"middle\" x=\"1720\" y=\"-205.8\" font-family=\"Times,serif\" font-size=\"14.00\"> </text>\n<polyline fill=\"none\" stroke=\"black\" points=\"1730,-191.5 1730,-227.5 \"/>\n<text text-anchor=\"middle\" x=\"1772.5\" y=\"-205.8\" font-family=\"Times,serif\" font-size=\"14.00\">data &#45;1.0000</text>\n<polyline fill=\"none\" stroke=\"black\" points=\"1815,-191.5 1815,-227.5 \"/>\n<text text-anchor=\"middle\" x=\"1858\" y=\"-205.8\" font-family=\"Times,serif\" font-size=\"14.00\">grad. 0.1464</text>\n</g>\n<!-- 140687091589184+ -->\n<g id=\"node9\" class=\"node\">\n<title>140687091589184+</title>\n<ellipse fill=\"none\" stroke=\"black\" cx=\"1964\" cy=\"-181.5\" rx=\"27\" ry=\"18\"/>\n<text text-anchor=\"middle\" x=\"1964\" y=\"-177.8\" font-family=\"Times,serif\" font-size=\"14.00\">+</text>\n</g>\n<!-- 140687091617744&#45;&gt;140687091589184+ -->\n<g id=\"edge11\" class=\"edge\">\n<title>140687091617744&#45;&gt;140687091589184+</title>\n<path fill=\"none\" stroke=\"black\" d=\"M1901.15,-192.57C1910.46,-190.9 1919.44,-189.29 1927.54,-187.84\"/>\n<polygon fill=\"black\" stroke=\"black\" points=\"1928.41,-191.24 1937.64,-186.04 1927.18,-184.35 1928.41,-191.24\"/>\n</g>\n<!-- 140687091589664 -->\n<g id=\"node2\" class=\"node\">\n<title>140687091589664</title>\n<polygon fill=\"none\" stroke=\"black\" points=\"2471,-112.5 2471,-148.5 2657,-148.5 2657,-112.5 2471,-112.5\"/>\n<text text-anchor=\"middle\" x=\"2481\" y=\"-126.8\" font-family=\"Times,serif\" font-size=\"14.00\"> </text>\n<polyline fill=\"none\" stroke=\"black\" points=\"2491,-112.5 2491,-148.5 \"/>\n<text text-anchor=\"middle\" x=\"2531\" y=\"-126.8\" font-family=\"Times,serif\" font-size=\"14.00\">data 0.1464</text>\n<polyline fill=\"none\" stroke=\"black\" points=\"2571,-112.5 2571,-148.5 \"/>\n<text text-anchor=\"middle\" x=\"2614\" y=\"-126.8\" font-family=\"Times,serif\" font-size=\"14.00\">grad. 4.8284</text>\n</g>\n<!-- 140687091589856* -->\n<g id=\"node13\" class=\"node\">\n<title>140687091589856*</title>\n<ellipse fill=\"none\" stroke=\"black\" cx=\"2720\" cy=\"-153.5\" rx=\"27\" ry=\"18\"/>\n<text text-anchor=\"middle\" x=\"2720\" y=\"-149.8\" font-family=\"Times,serif\" font-size=\"14.00\">*</text>\n</g>\n<!-- 140687091589664&#45;&gt;140687091589856* -->\n<g id=\"edge16\" class=\"edge\">\n<title>140687091589664&#45;&gt;140687091589856*</title>\n<path fill=\"none\" stroke=\"black\" d=\"M2657.25,-144.28C2666.42,-145.65 2675.3,-146.97 2683.32,-148.17\"/>\n<polygon fill=\"black\" stroke=\"black\" points=\"2682.93,-151.65 2693.33,-149.67 2683.96,-144.73 2682.93,-151.65\"/>\n</g>\n<!-- 140687091589664**&#45;1 -->\n<g id=\"node3\" class=\"node\">\n<title>140687091589664**&#45;1</title>\n<ellipse fill=\"none\" stroke=\"black\" cx=\"2342\" cy=\"-126.5\" rx=\"27\" ry=\"18\"/>\n<text text-anchor=\"middle\" x=\"2342\" y=\"-122.8\" font-family=\"Times,serif\" font-size=\"14.00\">**&#45;1</text>\n</g>\n<!-- 140687091589664**&#45;1&#45;&gt;140687091589664 -->\n<g id=\"edge1\" class=\"edge\">\n<title>140687091589664**&#45;1&#45;&gt;140687091589664</title>\n<path fill=\"none\" stroke=\"black\" d=\"M2369.1,-126.97C2392.05,-127.39 2426.98,-128.03 2460.91,-128.64\"/>\n<polygon fill=\"black\" stroke=\"black\" points=\"2460.86,-132.14 2470.92,-128.83 2460.98,-125.14 2460.86,-132.14\"/>\n</g>\n<!-- 140687101993024 -->\n<g id=\"node4\" class=\"node\">\n<title>140687101993024</title>\n<polygon fill=\"none\" stroke=\"black\" points=\"4,-165.5 4,-201.5 200,-201.5 200,-165.5 4,-165.5\"/>\n<text text-anchor=\"middle\" x=\"19\" y=\"-179.8\" font-family=\"Times,serif\" font-size=\"14.00\">x2</text>\n<polyline fill=\"none\" stroke=\"black\" points=\"34,-165.5 34,-201.5 \"/>\n<text text-anchor=\"middle\" x=\"74\" y=\"-179.8\" font-family=\"Times,serif\" font-size=\"14.00\">data 0.0000</text>\n<polyline fill=\"none\" stroke=\"black\" points=\"114,-165.5 114,-201.5 \"/>\n<text text-anchor=\"middle\" x=\"157\" y=\"-179.8\" font-family=\"Times,serif\" font-size=\"14.00\">grad. 1.7071</text>\n</g>\n<!-- 140687091606096* -->\n<g id=\"node6\" class=\"node\">\n<title>140687091606096*</title>\n<ellipse fill=\"none\" stroke=\"black\" cx=\"267\" cy=\"-128.5\" rx=\"27\" ry=\"18\"/>\n<text text-anchor=\"middle\" x=\"267\" y=\"-124.8\" font-family=\"Times,serif\" font-size=\"14.00\">*</text>\n</g>\n<!-- 140687101993024&#45;&gt;140687091606096* -->\n<g id=\"edge15\" class=\"edge\">\n<title>140687101993024&#45;&gt;140687091606096*</title>\n<path fill=\"none\" stroke=\"black\" d=\"M176.26,-165.43C185.67,-162.67 195.11,-159.67 204,-156.5 214.54,-152.74 225.77,-147.93 235.73,-143.36\"/>\n<polygon fill=\"black\" stroke=\"black\" points=\"237.26,-146.51 244.83,-139.09 234.29,-140.17 237.26,-146.51\"/>\n</g>\n<!-- 140687091606096 -->\n<g id=\"node5\" class=\"node\">\n<title>140687091606096</title>\n<polygon fill=\"none\" stroke=\"black\" points=\"332.5,-110.5 332.5,-146.5 551.5,-146.5 551.5,-110.5 332.5,-110.5\"/>\n<text text-anchor=\"middle\" x=\"359\" y=\"-124.8\" font-family=\"Times,serif\" font-size=\"14.00\">x2*w2</text>\n<polyline fill=\"none\" stroke=\"black\" points=\"385.5,-110.5 385.5,-146.5 \"/>\n<text text-anchor=\"middle\" x=\"425.5\" y=\"-124.8\" font-family=\"Times,serif\" font-size=\"14.00\">data 0.0000</text>\n<polyline fill=\"none\" stroke=\"black\" points=\"465.5,-110.5 465.5,-146.5 \"/>\n<text text-anchor=\"middle\" x=\"508.5\" y=\"-124.8\" font-family=\"Times,serif\" font-size=\"14.00\">grad. 1.7071</text>\n</g>\n<!-- 140687091606288+ -->\n<g id=\"node16\" class=\"node\">\n<title>140687091606288+</title>\n<ellipse fill=\"none\" stroke=\"black\" cx=\"617\" cy=\"-100.5\" rx=\"27\" ry=\"18\"/>\n<text text-anchor=\"middle\" x=\"617\" y=\"-96.8\" font-family=\"Times,serif\" font-size=\"14.00\">+</text>\n</g>\n<!-- 140687091606096&#45;&gt;140687091606288+ -->\n<g id=\"edge28\" class=\"edge\">\n<title>140687091606096&#45;&gt;140687091606288+</title>\n<path fill=\"none\" stroke=\"black\" d=\"M551.58,-110.93C561.91,-109.25 571.79,-107.66 580.57,-106.23\"/>\n<polygon fill=\"black\" stroke=\"black\" points=\"581.39,-109.65 590.7,-104.59 580.27,-102.74 581.39,-109.65\"/>\n</g>\n<!-- 140687091606096*&#45;&gt;140687091606096 -->\n<g id=\"edge2\" class=\"edge\">\n<title>140687091606096*&#45;&gt;140687091606096</title>\n<path fill=\"none\" stroke=\"black\" d=\"M294.27,-128.5C302.44,-128.5 312.03,-128.5 322.33,-128.5\"/>\n<polygon fill=\"black\" stroke=\"black\" points=\"322.39,-132 332.39,-128.5 322.39,-125 322.39,-132\"/>\n</g>\n<!-- 140687091443264 -->\n<g id=\"node7\" class=\"node\">\n<title>140687091443264</title>\n<polygon fill=\"none\" stroke=\"black\" points=\"724,-137.5 724,-173.5 913,-173.5 913,-137.5 724,-137.5\"/>\n<text text-anchor=\"middle\" x=\"735.5\" y=\"-151.8\" font-family=\"Times,serif\" font-size=\"14.00\">b</text>\n<polyline fill=\"none\" stroke=\"black\" points=\"747,-137.5 747,-173.5 \"/>\n<text text-anchor=\"middle\" x=\"787\" y=\"-151.8\" font-family=\"Times,serif\" font-size=\"14.00\">data 6.8814</text>\n<polyline fill=\"none\" stroke=\"black\" points=\"827,-137.5 827,-173.5 \"/>\n<text text-anchor=\"middle\" x=\"870\" y=\"-151.8\" font-family=\"Times,serif\" font-size=\"14.00\">grad. 1.7071</text>\n</g>\n<!-- 140687091606480+ -->\n<g id=\"node25\" class=\"node\">\n<title>140687091606480+</title>\n<ellipse fill=\"none\" stroke=\"black\" cx=\"1020\" cy=\"-127.5\" rx=\"27\" ry=\"18\"/>\n<text text-anchor=\"middle\" x=\"1020\" y=\"-123.8\" font-family=\"Times,serif\" font-size=\"14.00\">+</text>\n</g>\n<!-- 140687091443264&#45;&gt;140687091606480+ -->\n<g id=\"edge22\" class=\"edge\">\n<title>140687091443264&#45;&gt;140687091606480+</title>\n<path fill=\"none\" stroke=\"black\" d=\"M913.12,-142.36C938.17,-138.84 963.75,-135.25 983.49,-132.48\"/>\n<polygon fill=\"black\" stroke=\"black\" points=\"984.11,-135.93 993.53,-131.08 983.14,-129 984.11,-135.93\"/>\n</g>\n<!-- 140687091589184 -->\n<g id=\"node8\" class=\"node\">\n<title>140687091589184</title>\n<polygon fill=\"none\" stroke=\"black\" points=\"2249,-163.5 2249,-199.5 2435,-199.5 2435,-163.5 2249,-163.5\"/>\n<text text-anchor=\"middle\" x=\"2259\" y=\"-177.8\" font-family=\"Times,serif\" font-size=\"14.00\"> </text>\n<polyline fill=\"none\" stroke=\"black\" points=\"2269,-163.5 2269,-199.5 \"/>\n<text text-anchor=\"middle\" x=\"2309\" y=\"-177.8\" font-family=\"Times,serif\" font-size=\"14.00\">data 4.8284</text>\n<polyline fill=\"none\" stroke=\"black\" points=\"2349,-163.5 2349,-199.5 \"/>\n<text text-anchor=\"middle\" x=\"2392\" y=\"-177.8\" font-family=\"Times,serif\" font-size=\"14.00\">grad. 0.1464</text>\n</g>\n<!-- 140687091589184&#45;&gt;140687091589856* -->\n<g id=\"edge20\" class=\"edge\">\n<title>140687091589184&#45;&gt;140687091589856*</title>\n<path fill=\"none\" stroke=\"black\" d=\"M2435.07,-174.94C2497.66,-170.43 2582.34,-164.25 2657,-158.5 2665.42,-157.85 2674.48,-157.13 2683.01,-156.45\"/>\n<polygon fill=\"black\" stroke=\"black\" points=\"2683.38,-159.93 2693.06,-155.63 2682.81,-152.95 2683.38,-159.93\"/>\n</g>\n<!-- 140687091589184+&#45;&gt;140687091589184 -->\n<g id=\"edge3\" class=\"edge\">\n<title>140687091589184+&#45;&gt;140687091589184</title>\n<path fill=\"none\" stroke=\"black\" d=\"M1991.14,-181.5C2041.55,-181.5 2154.64,-181.5 2238.67,-181.5\"/>\n<polygon fill=\"black\" stroke=\"black\" points=\"2238.77,-185 2248.77,-181.5 2238.77,-178 2238.77,-185\"/>\n</g>\n<!-- 140687091606672 -->\n<g id=\"node10\" class=\"node\">\n<title>140687091606672</title>\n<polygon fill=\"none\" stroke=\"black\" points=\"1084.5,-164.5 1084.5,-200.5 1270.5,-200.5 1270.5,-164.5 1084.5,-164.5\"/>\n<text text-anchor=\"middle\" x=\"1094.5\" y=\"-178.8\" font-family=\"Times,serif\" font-size=\"14.00\"> </text>\n<polyline fill=\"none\" stroke=\"black\" points=\"1104.5,-164.5 1104.5,-200.5 \"/>\n<text text-anchor=\"middle\" x=\"1144.5\" y=\"-178.8\" font-family=\"Times,serif\" font-size=\"14.00\">data 2.0000</text>\n<polyline fill=\"none\" stroke=\"black\" points=\"1184.5,-164.5 1184.5,-200.5 \"/>\n<text text-anchor=\"middle\" x=\"1227.5\" y=\"-178.8\" font-family=\"Times,serif\" font-size=\"14.00\">grad. 0.7523</text>\n</g>\n<!-- 140687091606816* -->\n<g id=\"node18\" class=\"node\">\n<title>140687091606816*</title>\n<ellipse fill=\"none\" stroke=\"black\" cx=\"1335\" cy=\"-154.5\" rx=\"27\" ry=\"18\"/>\n<text text-anchor=\"middle\" x=\"1335\" y=\"-150.8\" font-family=\"Times,serif\" font-size=\"14.00\">*</text>\n</g>\n<!-- 140687091606672&#45;&gt;140687091606816* -->\n<g id=\"edge19\" class=\"edge\">\n<title>140687091606672&#45;&gt;140687091606816*</title>\n<path fill=\"none\" stroke=\"black\" d=\"M1270.75,-165.89C1280.61,-164.11 1290.14,-162.4 1298.69,-160.86\"/>\n<polygon fill=\"black\" stroke=\"black\" points=\"1299.36,-164.29 1308.58,-159.08 1298.12,-157.4 1299.36,-164.29\"/>\n</g>\n<!-- 140687091442832 -->\n<g id=\"node11\" class=\"node\">\n<title>140687091442832</title>\n<polygon fill=\"none\" stroke=\"black\" points=\"0,-55.5 0,-91.5 204,-91.5 204,-55.5 0,-55.5\"/>\n<text text-anchor=\"middle\" x=\"16.5\" y=\"-69.8\" font-family=\"Times,serif\" font-size=\"14.00\">w1</text>\n<polyline fill=\"none\" stroke=\"black\" points=\"33,-55.5 33,-91.5 \"/>\n<text text-anchor=\"middle\" x=\"75.5\" y=\"-69.8\" font-family=\"Times,serif\" font-size=\"14.00\">data &#45;3.0000</text>\n<polyline fill=\"none\" stroke=\"black\" points=\"118,-55.5 118,-91.5 \"/>\n<text text-anchor=\"middle\" x=\"161\" y=\"-69.8\" font-family=\"Times,serif\" font-size=\"14.00\">grad. 3.4142</text>\n</g>\n<!-- 140687091605904* -->\n<g id=\"node23\" class=\"node\">\n<title>140687091605904*</title>\n<ellipse fill=\"none\" stroke=\"black\" cx=\"267\" cy=\"-73.5\" rx=\"27\" ry=\"18\"/>\n<text text-anchor=\"middle\" x=\"267\" y=\"-69.8\" font-family=\"Times,serif\" font-size=\"14.00\">*</text>\n</g>\n<!-- 140687091442832&#45;&gt;140687091605904* -->\n<g id=\"edge24\" class=\"edge\">\n<title>140687091442832&#45;&gt;140687091605904*</title>\n<path fill=\"none\" stroke=\"black\" d=\"M204.38,-73.5C213.37,-73.5 222.01,-73.5 229.84,-73.5\"/>\n<polygon fill=\"black\" stroke=\"black\" points=\"229.97,-77 239.97,-73.5 229.97,-70 229.97,-77\"/>\n</g>\n<!-- 140687091589856 -->\n<g id=\"node12\" class=\"node\">\n<title>140687091589856</title>\n<polygon fill=\"none\" stroke=\"black\" points=\"2783,-135.5 2783,-171.5 2972,-171.5 2972,-135.5 2783,-135.5\"/>\n<text text-anchor=\"middle\" x=\"2794.5\" y=\"-149.8\" font-family=\"Times,serif\" font-size=\"14.00\">o</text>\n<polyline fill=\"none\" stroke=\"black\" points=\"2806,-135.5 2806,-171.5 \"/>\n<text text-anchor=\"middle\" x=\"2846\" y=\"-149.8\" font-family=\"Times,serif\" font-size=\"14.00\">data 0.7071</text>\n<polyline fill=\"none\" stroke=\"black\" points=\"2886,-135.5 2886,-171.5 \"/>\n<text text-anchor=\"middle\" x=\"2929\" y=\"-149.8\" font-family=\"Times,serif\" font-size=\"14.00\">grad. 1.0000</text>\n</g>\n<!-- 140687091589856*&#45;&gt;140687091589856 -->\n<g id=\"edge4\" class=\"edge\">\n<title>140687091589856*&#45;&gt;140687091589856</title>\n<path fill=\"none\" stroke=\"black\" d=\"M2747.03,-153.5C2754.66,-153.5 2763.52,-153.5 2772.94,-153.5\"/>\n<polygon fill=\"black\" stroke=\"black\" points=\"2772.94,-157 2782.94,-153.5 2772.94,-150 2772.94,-157\"/>\n</g>\n<!-- 140687091589376 -->\n<g id=\"node14\" class=\"node\">\n<title>140687091589376</title>\n<polygon fill=\"none\" stroke=\"black\" points=\"1712.5,-81.5 1712.5,-117.5 1898.5,-117.5 1898.5,-81.5 1712.5,-81.5\"/>\n<text text-anchor=\"middle\" x=\"1722.5\" y=\"-95.8\" font-family=\"Times,serif\" font-size=\"14.00\"> </text>\n<polyline fill=\"none\" stroke=\"black\" points=\"1732.5,-81.5 1732.5,-117.5 \"/>\n<text text-anchor=\"middle\" x=\"1772.5\" y=\"-95.8\" font-family=\"Times,serif\" font-size=\"14.00\">data 1.0000</text>\n<polyline fill=\"none\" stroke=\"black\" points=\"1812.5,-81.5 1812.5,-117.5 \"/>\n<text text-anchor=\"middle\" x=\"1855.5\" y=\"-95.8\" font-family=\"Times,serif\" font-size=\"14.00\">grad. 0.0000</text>\n</g>\n<!-- 140687091589424+ -->\n<g id=\"node20\" class=\"node\">\n<title>140687091589424+</title>\n<ellipse fill=\"none\" stroke=\"black\" cx=\"1964\" cy=\"-126.5\" rx=\"27\" ry=\"18\"/>\n<text text-anchor=\"middle\" x=\"1964\" y=\"-122.8\" font-family=\"Times,serif\" font-size=\"14.00\">+</text>\n</g>\n<!-- 140687091589376&#45;&gt;140687091589424+ -->\n<g id=\"edge27\" class=\"edge\">\n<title>140687091589376&#45;&gt;140687091589424+</title>\n<path fill=\"none\" stroke=\"black\" d=\"M1898.89,-115.44C1908.96,-117.18 1918.71,-118.86 1927.43,-120.36\"/>\n<polygon fill=\"black\" stroke=\"black\" points=\"1927.07,-123.85 1937.52,-122.1 1928.26,-116.96 1927.07,-123.85\"/>\n</g>\n<!-- 140687091606288 -->\n<g id=\"node15\" class=\"node\">\n<title>140687091606288</title>\n<polygon fill=\"none\" stroke=\"black\" points=\"680,-82.5 680,-118.5 957,-118.5 957,-82.5 680,-82.5\"/>\n<text text-anchor=\"middle\" x=\"733\" y=\"-96.8\" font-family=\"Times,serif\" font-size=\"14.00\">x1*w1 + x2*w2</text>\n<polyline fill=\"none\" stroke=\"black\" points=\"786,-82.5 786,-118.5 \"/>\n<text text-anchor=\"middle\" x=\"828.5\" y=\"-96.8\" font-family=\"Times,serif\" font-size=\"14.00\">data &#45;6.0000</text>\n<polyline fill=\"none\" stroke=\"black\" points=\"871,-82.5 871,-118.5 \"/>\n<text text-anchor=\"middle\" x=\"914\" y=\"-96.8\" font-family=\"Times,serif\" font-size=\"14.00\">grad. 1.7071</text>\n</g>\n<!-- 140687091606288&#45;&gt;140687091606480+ -->\n<g id=\"edge17\" class=\"edge\">\n<title>140687091606288&#45;&gt;140687091606480+</title>\n<path fill=\"none\" stroke=\"black\" d=\"M952.57,-118.51C963.56,-120 973.95,-121.4 983.09,-122.64\"/>\n<polygon fill=\"black\" stroke=\"black\" points=\"982.85,-126.14 993.23,-124.01 983.79,-119.2 982.85,-126.14\"/>\n</g>\n<!-- 140687091606288+&#45;&gt;140687091606288 -->\n<g id=\"edge5\" class=\"edge\">\n<title>140687091606288+&#45;&gt;140687091606288</title>\n<path fill=\"none\" stroke=\"black\" d=\"M644.08,-100.5C651.53,-100.5 660.21,-100.5 669.65,-100.5\"/>\n<polygon fill=\"black\" stroke=\"black\" points=\"669.74,-104 679.74,-100.5 669.74,-97 669.74,-104\"/>\n</g>\n<!-- 140687091606816 -->\n<g id=\"node17\" class=\"node\">\n<title>140687091606816</title>\n<polygon fill=\"none\" stroke=\"black\" points=\"1398,-136.5 1398,-172.5 1584,-172.5 1584,-136.5 1398,-136.5\"/>\n<text text-anchor=\"middle\" x=\"1408\" y=\"-150.8\" font-family=\"Times,serif\" font-size=\"14.00\"> </text>\n<polyline fill=\"none\" stroke=\"black\" points=\"1418,-136.5 1418,-172.5 \"/>\n<text text-anchor=\"middle\" x=\"1458\" y=\"-150.8\" font-family=\"Times,serif\" font-size=\"14.00\">data 1.7627</text>\n<polyline fill=\"none\" stroke=\"black\" points=\"1498,-136.5 1498,-172.5 \"/>\n<text text-anchor=\"middle\" x=\"1541\" y=\"-150.8\" font-family=\"Times,serif\" font-size=\"14.00\">grad. 0.8536</text>\n</g>\n<!-- 140687091607008exp -->\n<g id=\"node27\" class=\"node\">\n<title>140687091607008exp</title>\n<ellipse fill=\"none\" stroke=\"black\" cx=\"1647\" cy=\"-154.5\" rx=\"27\" ry=\"18\"/>\n<text text-anchor=\"middle\" x=\"1647\" y=\"-150.8\" font-family=\"Times,serif\" font-size=\"14.00\">exp</text>\n</g>\n<!-- 140687091606816&#45;&gt;140687091607008exp -->\n<g id=\"edge12\" class=\"edge\">\n<title>140687091606816&#45;&gt;140687091607008exp</title>\n<path fill=\"none\" stroke=\"black\" d=\"M1584.25,-154.5C1593.15,-154.5 1601.76,-154.5 1609.59,-154.5\"/>\n<polygon fill=\"black\" stroke=\"black\" points=\"1609.73,-158 1619.73,-154.5 1609.73,-151 1609.73,-158\"/>\n</g>\n<!-- 140687091606816*&#45;&gt;140687091606816 -->\n<g id=\"edge6\" class=\"edge\">\n<title>140687091606816*&#45;&gt;140687091606816</title>\n<path fill=\"none\" stroke=\"black\" d=\"M1362.12,-154.5C1369.62,-154.5 1378.29,-154.5 1387.5,-154.5\"/>\n<polygon fill=\"black\" stroke=\"black\" points=\"1387.69,-158 1397.69,-154.5 1387.69,-151 1387.69,-158\"/>\n</g>\n<!-- 140687091589424 -->\n<g id=\"node19\" class=\"node\">\n<title>140687091589424</title>\n<polygon fill=\"none\" stroke=\"black\" points=\"2027,-108.5 2027,-144.5 2213,-144.5 2213,-108.5 2027,-108.5\"/>\n<text text-anchor=\"middle\" x=\"2037\" y=\"-122.8\" font-family=\"Times,serif\" font-size=\"14.00\"> </text>\n<polyline fill=\"none\" stroke=\"black\" points=\"2047,-108.5 2047,-144.5 \"/>\n<text text-anchor=\"middle\" x=\"2087\" y=\"-122.8\" font-family=\"Times,serif\" font-size=\"14.00\">data 6.8284</text>\n<polyline fill=\"none\" stroke=\"black\" points=\"2127,-108.5 2127,-144.5 \"/>\n<text text-anchor=\"middle\" x=\"2170\" y=\"-122.8\" font-family=\"Times,serif\" font-size=\"14.00\">grad. 0.0000</text>\n</g>\n<!-- 140687091589424&#45;&gt;140687091589664**&#45;1 -->\n<g id=\"edge14\" class=\"edge\">\n<title>140687091589424&#45;&gt;140687091589664**&#45;1</title>\n<path fill=\"none\" stroke=\"black\" d=\"M2213.03,-126.5C2245.38,-126.5 2279.86,-126.5 2304.87,-126.5\"/>\n<polygon fill=\"black\" stroke=\"black\" points=\"2304.97,-130 2314.97,-126.5 2304.97,-123 2304.97,-130\"/>\n</g>\n<!-- 140687091589424+&#45;&gt;140687091589424 -->\n<g id=\"edge7\" class=\"edge\">\n<title>140687091589424+&#45;&gt;140687091589424</title>\n<path fill=\"none\" stroke=\"black\" d=\"M1991.12,-126.5C1998.62,-126.5 2007.29,-126.5 2016.5,-126.5\"/>\n<polygon fill=\"black\" stroke=\"black\" points=\"2016.69,-130 2026.69,-126.5 2016.69,-123 2016.69,-130\"/>\n</g>\n<!-- 140687092364624 -->\n<g id=\"node21\" class=\"node\">\n<title>140687092364624</title>\n<polygon fill=\"none\" stroke=\"black\" points=\"2.5,-110.5 2.5,-146.5 201.5,-146.5 201.5,-110.5 2.5,-110.5\"/>\n<text text-anchor=\"middle\" x=\"19\" y=\"-124.8\" font-family=\"Times,serif\" font-size=\"14.00\">w2</text>\n<polyline fill=\"none\" stroke=\"black\" points=\"35.5,-110.5 35.5,-146.5 \"/>\n<text text-anchor=\"middle\" x=\"75.5\" y=\"-124.8\" font-family=\"Times,serif\" font-size=\"14.00\">data 1.0000</text>\n<polyline fill=\"none\" stroke=\"black\" points=\"115.5,-110.5 115.5,-146.5 \"/>\n<text text-anchor=\"middle\" x=\"158.5\" y=\"-124.8\" font-family=\"Times,serif\" font-size=\"14.00\">grad. 0.0000</text>\n</g>\n<!-- 140687092364624&#45;&gt;140687091606096* -->\n<g id=\"edge25\" class=\"edge\">\n<title>140687092364624&#45;&gt;140687091606096*</title>\n<path fill=\"none\" stroke=\"black\" d=\"M201.58,-128.5C211.59,-128.5 221.24,-128.5 229.89,-128.5\"/>\n<polygon fill=\"black\" stroke=\"black\" points=\"229.9,-132 239.9,-128.5 229.9,-125 229.9,-132\"/>\n</g>\n<!-- 140687091605904 -->\n<g id=\"node22\" class=\"node\">\n<title>140687091605904</title>\n<polygon fill=\"none\" stroke=\"black\" points=\"330,-55.5 330,-91.5 554,-91.5 554,-55.5 330,-55.5\"/>\n<text text-anchor=\"middle\" x=\"356.5\" y=\"-69.8\" font-family=\"Times,serif\" font-size=\"14.00\">x1*w1</text>\n<polyline fill=\"none\" stroke=\"black\" points=\"383,-55.5 383,-91.5 \"/>\n<text text-anchor=\"middle\" x=\"425.5\" y=\"-69.8\" font-family=\"Times,serif\" font-size=\"14.00\">data &#45;6.0000</text>\n<polyline fill=\"none\" stroke=\"black\" points=\"468,-55.5 468,-91.5 \"/>\n<text text-anchor=\"middle\" x=\"511\" y=\"-69.8\" font-family=\"Times,serif\" font-size=\"14.00\">grad. 1.7071</text>\n</g>\n<!-- 140687091605904&#45;&gt;140687091606288+ -->\n<g id=\"edge26\" class=\"edge\">\n<title>140687091605904&#45;&gt;140687091606288+</title>\n<path fill=\"none\" stroke=\"black\" d=\"M554.03,-90.83C563.46,-92.3 572.46,-93.7 580.54,-94.97\"/>\n<polygon fill=\"black\" stroke=\"black\" points=\"580.16,-98.45 590.58,-96.53 581.24,-91.53 580.16,-98.45\"/>\n</g>\n<!-- 140687091605904*&#45;&gt;140687091605904 -->\n<g id=\"edge8\" class=\"edge\">\n<title>140687091605904*&#45;&gt;140687091605904</title>\n<path fill=\"none\" stroke=\"black\" d=\"M294.27,-73.5C301.7,-73.5 310.31,-73.5 319.55,-73.5\"/>\n<polygon fill=\"black\" stroke=\"black\" points=\"319.81,-77 329.81,-73.5 319.81,-70 319.81,-77\"/>\n</g>\n<!-- 140687091606480 -->\n<g id=\"node24\" class=\"node\">\n<title>140687091606480</title>\n<polygon fill=\"none\" stroke=\"black\" points=\"1083,-109.5 1083,-145.5 1272,-145.5 1272,-109.5 1083,-109.5\"/>\n<text text-anchor=\"middle\" x=\"1094.5\" y=\"-123.8\" font-family=\"Times,serif\" font-size=\"14.00\">n</text>\n<polyline fill=\"none\" stroke=\"black\" points=\"1106,-109.5 1106,-145.5 \"/>\n<text text-anchor=\"middle\" x=\"1146\" y=\"-123.8\" font-family=\"Times,serif\" font-size=\"14.00\">data 0.8814</text>\n<polyline fill=\"none\" stroke=\"black\" points=\"1186,-109.5 1186,-145.5 \"/>\n<text text-anchor=\"middle\" x=\"1229\" y=\"-123.8\" font-family=\"Times,serif\" font-size=\"14.00\">grad. 1.7071</text>\n</g>\n<!-- 140687091606480&#45;&gt;140687091606816* -->\n<g id=\"edge18\" class=\"edge\">\n<title>140687091606480&#45;&gt;140687091606816*</title>\n<path fill=\"none\" stroke=\"black\" d=\"M1272.1,-143.75C1281.4,-145.37 1290.38,-146.93 1298.49,-148.33\"/>\n<polygon fill=\"black\" stroke=\"black\" points=\"1298.14,-151.83 1308.59,-150.09 1299.34,-144.93 1298.14,-151.83\"/>\n</g>\n<!-- 140687091606480+&#45;&gt;140687091606480 -->\n<g id=\"edge9\" class=\"edge\">\n<title>140687091606480+&#45;&gt;140687091606480</title>\n<path fill=\"none\" stroke=\"black\" d=\"M1047.03,-127.5C1054.66,-127.5 1063.52,-127.5 1072.94,-127.5\"/>\n<polygon fill=\"black\" stroke=\"black\" points=\"1072.94,-131 1082.94,-127.5 1072.94,-124 1072.94,-131\"/>\n</g>\n<!-- 140687091607008 -->\n<g id=\"node26\" class=\"node\">\n<title>140687091607008</title>\n<polygon fill=\"none\" stroke=\"black\" points=\"1712.5,-136.5 1712.5,-172.5 1898.5,-172.5 1898.5,-136.5 1712.5,-136.5\"/>\n<text text-anchor=\"middle\" x=\"1722.5\" y=\"-150.8\" font-family=\"Times,serif\" font-size=\"14.00\"> </text>\n<polyline fill=\"none\" stroke=\"black\" points=\"1732.5,-136.5 1732.5,-172.5 \"/>\n<text text-anchor=\"middle\" x=\"1772.5\" y=\"-150.8\" font-family=\"Times,serif\" font-size=\"14.00\">data 5.8284</text>\n<polyline fill=\"none\" stroke=\"black\" points=\"1812.5,-136.5 1812.5,-172.5 \"/>\n<text text-anchor=\"middle\" x=\"1855.5\" y=\"-150.8\" font-family=\"Times,serif\" font-size=\"14.00\">grad. 0.1464</text>\n</g>\n<!-- 140687091607008&#45;&gt;140687091589184+ -->\n<g id=\"edge23\" class=\"edge\">\n<title>140687091607008&#45;&gt;140687091589184+</title>\n<path fill=\"none\" stroke=\"black\" d=\"M1898.89,-170.44C1908.96,-172.18 1918.71,-173.86 1927.43,-175.36\"/>\n<polygon fill=\"black\" stroke=\"black\" points=\"1927.07,-178.85 1937.52,-177.1 1928.26,-171.96 1927.07,-178.85\"/>\n</g>\n<!-- 140687091607008&#45;&gt;140687091589424+ -->\n<g id=\"edge13\" class=\"edge\">\n<title>140687091607008&#45;&gt;140687091589424+</title>\n<path fill=\"none\" stroke=\"black\" d=\"M1898.89,-137.97C1909.17,-136.13 1919.11,-134.35 1927.97,-132.77\"/>\n<polygon fill=\"black\" stroke=\"black\" points=\"1928.6,-136.21 1937.83,-131 1927.37,-129.32 1928.6,-136.21\"/>\n</g>\n<!-- 140687091607008exp&#45;&gt;140687091607008 -->\n<g id=\"edge10\" class=\"edge\">\n<title>140687091607008exp&#45;&gt;140687091607008</title>\n<path fill=\"none\" stroke=\"black\" d=\"M1674.19,-154.5C1682.35,-154.5 1691.89,-154.5 1702.03,-154.5\"/>\n<polygon fill=\"black\" stroke=\"black\" points=\"1702.35,-158 1712.35,-154.5 1702.35,-151 1702.35,-158\"/>\n</g>\n<!-- 140687091445232 -->\n<g id=\"node28\" class=\"node\">\n<title>140687091445232</title>\n<polygon fill=\"none\" stroke=\"black\" points=\"2,-0.5 2,-36.5 202,-36.5 202,-0.5 2,-0.5\"/>\n<text text-anchor=\"middle\" x=\"17\" y=\"-14.8\" font-family=\"Times,serif\" font-size=\"14.00\">x1</text>\n<polyline fill=\"none\" stroke=\"black\" points=\"32,-0.5 32,-36.5 \"/>\n<text text-anchor=\"middle\" x=\"72\" y=\"-14.8\" font-family=\"Times,serif\" font-size=\"14.00\">data 2.0000</text>\n<polyline fill=\"none\" stroke=\"black\" points=\"112,-0.5 112,-36.5 \"/>\n<text text-anchor=\"middle\" x=\"157\" y=\"-14.8\" font-family=\"Times,serif\" font-size=\"14.00\">grad. &#45;5.1213</text>\n</g>\n<!-- 140687091445232&#45;&gt;140687091605904* -->\n<g id=\"edge21\" class=\"edge\">\n<title>140687091445232&#45;&gt;140687091605904*</title>\n<path fill=\"none\" stroke=\"black\" d=\"M176.26,-36.57C185.67,-39.33 195.11,-42.33 204,-45.5 214.54,-49.26 225.77,-54.07 235.73,-58.64\"/>\n<polygon fill=\"black\" stroke=\"black\" points=\"234.29,-61.83 244.83,-62.91 237.26,-55.49 234.29,-61.83\"/>\n</g>\n</g>\n</svg>\n"
          },
          "metadata": {},
          "execution_count": 36
        }
      ]
    },
    {
      "cell_type": "code",
      "source": [
        "import torch\n",
        "\n",
        "x1 = torch.Tensor([2.0]).double(); x1.requires_grad=True\n",
        "x2 = torch.Tensor([0.0]).double(); x2.requires_grad=True\n",
        "w1 = torch.Tensor([-3.0]).double(); w1.requires_grad=True\n",
        "w2 = torch.Tensor([1.0]).double(); w2.requires_grad=True\n",
        "b = torch.Tensor([6.8813735870195432]).double(); b.requires_grad=True\n",
        "\n",
        "n = w1*x1 + w2*x2 +b \n",
        "o = torch.tanh(n)\n",
        "\n",
        "print(o.data.item())\n",
        "o.backward()\n",
        "\n",
        "print('---------')\n",
        "print('x2', x2.grad.item())\n",
        "print('w2', w2.grad.item())\n",
        "print('x1', x1.grad.item())\n",
        "print('w1', w1.grad.item())"
      ],
      "metadata": {
        "colab": {
          "base_uri": "https://localhost:8080/"
        },
        "id": "6ccP58_BjMtI",
        "outputId": "7ffd1796-5ed3-4390-f213-1e91e794840b"
      },
      "execution_count": null,
      "outputs": [
        {
          "output_type": "stream",
          "name": "stdout",
          "text": [
            "0.7071066904050358\n",
            "---------\n",
            "x2 0.5000001283844369\n",
            "w2 0.0\n",
            "x1 -1.5000003851533106\n",
            "w1 1.0000002567688737\n"
          ]
        }
      ]
    }
  ]
}